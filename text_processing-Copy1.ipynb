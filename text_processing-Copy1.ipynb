{
 "cells": [
  {
   "cell_type": "markdown",
   "metadata": {},
   "source": [
    "# Text Processing\n",
    "\n",
    "## Capturing Text Data\n",
    "\n",
    "### Plain Text"
   ]
  },
  {
   "cell_type": "code",
   "execution_count": 1,
   "metadata": {},
   "outputs": [
    {
     "name": "stdout",
     "output_type": "stream",
     "text": [
      "Hieroglyphic writing dates from c. 3000 BC, and is composed of hundreds of symbols. A hieroglyph can represent a word, a sound, or a silent determinative; and the same symbol can serve different purposes in different contexts. Hieroglyphs were a formal script, used on stone monuments and in tombs, that could be as detailed as individual works of art.\n",
      "\n"
     ]
    }
   ],
   "source": [
    "import os\n",
    "\n",
    "# Read in a plain text file\n",
    "with open(os.path.join(\"data\", \"hieroglyph.txt\"), \"r\") as f:\n",
    "    text = f.read()\n",
    "    print(text)"
   ]
  },
  {
   "cell_type": "markdown",
   "metadata": {},
   "source": [
    "### Tabular Data"
   ]
  },
  {
   "cell_type": "code",
   "execution_count": 2,
   "metadata": {
    "scrolled": true
   },
   "outputs": [
    {
     "data": {
      "text/html": [
       "<div>\n",
       "<style>\n",
       "    .dataframe thead tr:only-child th {\n",
       "        text-align: right;\n",
       "    }\n",
       "\n",
       "    .dataframe thead th {\n",
       "        text-align: left;\n",
       "    }\n",
       "\n",
       "    .dataframe tbody tr th {\n",
       "        vertical-align: top;\n",
       "    }\n",
       "</style>\n",
       "<table border=\"1\" class=\"dataframe\">\n",
       "  <thead>\n",
       "    <tr style=\"text-align: right;\">\n",
       "      <th></th>\n",
       "      <th>publisher</th>\n",
       "      <th>title</th>\n",
       "    </tr>\n",
       "  </thead>\n",
       "  <tbody>\n",
       "    <tr>\n",
       "      <th>0</th>\n",
       "      <td>Livemint</td>\n",
       "      <td>fed's charles plosser sees high bar for change...</td>\n",
       "    </tr>\n",
       "    <tr>\n",
       "      <th>1</th>\n",
       "      <td>IFA Magazine</td>\n",
       "      <td>us open: stocks fall after fed official hints ...</td>\n",
       "    </tr>\n",
       "    <tr>\n",
       "      <th>2</th>\n",
       "      <td>IFA Magazine</td>\n",
       "      <td>fed risks falling 'behind the curve', charles ...</td>\n",
       "    </tr>\n",
       "    <tr>\n",
       "      <th>3</th>\n",
       "      <td>Moneynews</td>\n",
       "      <td>fed's plosser: nasty weather has curbed job gr...</td>\n",
       "    </tr>\n",
       "    <tr>\n",
       "      <th>4</th>\n",
       "      <td>NASDAQ</td>\n",
       "      <td>plosser: fed may have to accelerate tapering pace</td>\n",
       "    </tr>\n",
       "  </tbody>\n",
       "</table>\n",
       "</div>"
      ],
      "text/plain": [
       "      publisher                                              title\n",
       "0      Livemint  fed's charles plosser sees high bar for change...\n",
       "1  IFA Magazine  us open: stocks fall after fed official hints ...\n",
       "2  IFA Magazine  fed risks falling 'behind the curve', charles ...\n",
       "3     Moneynews  fed's plosser: nasty weather has curbed job gr...\n",
       "4        NASDAQ  plosser: fed may have to accelerate tapering pace"
      ]
     },
     "execution_count": 2,
     "metadata": {},
     "output_type": "execute_result"
    }
   ],
   "source": [
    "import pandas as pd\n",
    "\n",
    "# Extract text column from a dataframe\n",
    "df = pd.read_csv(os.path.join(\"data\", \"news.csv\"))\n",
    "df.head()[['publisher', 'title']]\n",
    "\n",
    "# Convert text column to lowercase\n",
    "df['title'] = df['title'].str.lower()\n",
    "df.head()[['publisher', 'title']]"
   ]
  },
  {
   "cell_type": "markdown",
   "metadata": {},
   "source": [
    "### Online Resource"
   ]
  },
  {
   "cell_type": "code",
   "execution_count": 4,
   "metadata": {
    "scrolled": true
   },
   "outputs": [
    {
     "name": "stdout",
     "output_type": "stream",
     "text": [
      "{\n",
      "    \"success\": {\n",
      "        \"total\": 1\n",
      "    },\n",
      "    \"contents\": {\n",
      "        \"quotes\": [\n",
      "            {\n",
      "                \"quote\": \"By failing to prepare, you are preparing to fail.\",\n",
      "                \"length\": \"49\",\n",
      "                \"author\": \"Benjamin Franklin\",\n",
      "                \"tags\": [\n",
      "                    \"inspire\",\n",
      "                    \"planning\",\n",
      "                    \"preparation\",\n",
      "                    \"time-management\"\n",
      "                ],\n",
      "                \"category\": \"inspire\",\n",
      "                \"date\": \"2018-11-14\",\n",
      "                \"permalink\": \"https://theysaidso.com/quote/qaCN3Bgc0666qxXyNJangQeF/benjamin-franklin-by-failing-to-prepare-you-are-preparing-to-fail\",\n",
      "                \"title\": \"Inspiring Quote of the day\",\n",
      "                \"background\": \"https://theysaidso.com/img/bgs/man_on_the_mountain.jpg\",\n",
      "                \"id\": \"qaCN3Bgc0666qxXyNJangQeF\"\n",
      "            }\n",
      "        ],\n",
      "        \"copyright\": \"2017-19 theysaidso.com\"\n",
      "    }\n",
      "}\n"
     ]
    }
   ],
   "source": [
    "import requests\n",
    "import json\n",
    "\n",
    "# Fetch data from a REST API\n",
    "r = requests.get(\n",
    "    \"https://quotes.rest/qod.json\")\n",
    "res = r.json()\n",
    "print(json.dumps(res, indent=4))\n",
    "\n"
   ]
  },
  {
   "cell_type": "code",
   "execution_count": 5,
   "metadata": {},
   "outputs": [
    {
     "name": "stdout",
     "output_type": "stream",
     "text": [
      "By failing to prepare, you are preparing to fail. \n",
      "-- Benjamin Franklin\n"
     ]
    }
   ],
   "source": [
    "# Extract relevant object and field\n",
    "q = res[\"contents\"][\"quotes\"][0]\n",
    "print(q[\"quote\"], \"\\n--\", q[\"author\"])"
   ]
  },
  {
   "cell_type": "code",
   "execution_count": 6,
   "metadata": {},
   "outputs": [
    {
     "data": {
      "text/plain": [
       "{'quote': 'By failing to prepare, you are preparing to fail.',\n",
       " 'length': '49',\n",
       " 'author': 'Benjamin Franklin',\n",
       " 'tags': ['inspire', 'planning', 'preparation', 'time-management'],\n",
       " 'category': 'inspire',\n",
       " 'date': '2018-11-14',\n",
       " 'permalink': 'https://theysaidso.com/quote/qaCN3Bgc0666qxXyNJangQeF/benjamin-franklin-by-failing-to-prepare-you-are-preparing-to-fail',\n",
       " 'title': 'Inspiring Quote of the day',\n",
       " 'background': 'https://theysaidso.com/img/bgs/man_on_the_mountain.jpg',\n",
       " 'id': 'qaCN3Bgc0666qxXyNJangQeF'}"
      ]
     },
     "execution_count": 6,
     "metadata": {},
     "output_type": "execute_result"
    }
   ],
   "source": [
    "q"
   ]
  },
  {
   "cell_type": "code",
   "execution_count": 9,
   "metadata": {},
   "outputs": [
    {
     "data": {
      "text/plain": [
       "'2017-19 theysaidso.com'"
      ]
     },
     "execution_count": 9,
     "metadata": {},
     "output_type": "execute_result"
    }
   ],
   "source": [
    "res[\"contents\"][\"copyright\"]"
   ]
  },
  {
   "cell_type": "markdown",
   "metadata": {},
   "source": [
    "## Cleaning"
   ]
  },
  {
   "cell_type": "code",
   "execution_count": 10,
   "metadata": {
    "scrolled": true
   },
   "outputs": [
    {
     "name": "stdout",
     "output_type": "stream",
     "text": [
      "<html op=\"news\"><head><meta name=\"referrer\" content=\"origin\"><meta name=\"viewport\" content=\"width=device-width, initial-scale=1.0\"><link rel=\"stylesheet\" type=\"text/css\" href=\"news.css?bKMiySB2nhUo09N5Z8Du\">\n",
      "            <link rel=\"shortcut icon\" href=\"favicon.ico\">\n",
      "          <link rel=\"alternate\" type=\"application/rss+xml\" title=\"RSS\" href=\"rss\">\n",
      "        <title>Hacker News</title></head><body><center><table id=\"hnmain\" border=\"0\" cellpadding=\"0\" cellspacing=\"0\" width=\"85%\" bgcolor=\"#f6f6ef\">\n",
      "        <tr><td bgcolor=\"#ff6600\"><table border=\"0\" cellpadding=\"0\" cellspacing=\"0\" width=\"100%\" style=\"padding:2px\"><tr><td style=\"width:18px;padding-right:4px\"><a href=\"https://news.ycombinator.com\"><img src=\"y18.gif\" width=\"18\" height=\"18\" style=\"border:1px white solid;\"></a></td>\n",
      "                  <td style=\"line-height:12pt; height:10px;\"><span class=\"pagetop\"><b class=\"hnname\"><a href=\"news\">Hacker News</a></b>\n",
      "              <a href=\"newest\">new</a> | <a href=\"newcomments\">comments</a> | <a href=\"show\">show</a> | <a href=\"ask\">ask</a> | <a href=\"jobs\">jobs</a> | <a href=\"submit\">submit</a>            </span></td><td style=\"text-align:right;padding-right:4px;\"><span class=\"pagetop\">\n",
      "                              <a href=\"login?goto=news\">login</a>\n",
      "                          </span></td>\n",
      "              </tr></table></td></tr>\n",
      "<tr style=\"height:10px\"></tr><tr><td><table border=\"0\" cellpadding=\"0\" cellspacing=\"0\" class=\"itemlist\">\n",
      "              <tr class='athing' id='18447589'>\n",
      "      <td align=\"right\" valign=\"top\" class=\"title\"><span class=\"rank\">1.</span></td>      <td valign=\"top\" class=\"votelinks\"><center><a id='up_18447589' href='vote?id=18447589&amp;how=up&amp;goto=news'><div class='votearrow' title='upvote'></div></a></center></td><td class=\"title\"><a href=\"http://english.hf.cas.cn/new/news/rn/201811/t20181113_201186.html\" class=\"storylink\">Chinese Tokamak reaches over 100M degrees</a><span class=\"sitebit comhead\"> (<a href=\"from?site=cas.cn\"><span class=\"sitestr\">cas.cn</span></a>)</span></td></tr><tr><td colspan=\"2\"></td><td class=\"subtext\">\n",
      "        <span class=\"score\" id=\"score_18447589\">177 points</span> by <a href=\"user?id=7ero\" class=\"hnuser\">7ero</a> <span class=\"age\"><a href=\"item?id=18447589\">5 hours ago</a></span> <span id=\"unv_18447589\"></span> | <a href=\"hide?id=18447589&amp;goto=news\">hide</a> | <a href=\"item?id=18447589\">80&nbsp;comments</a>              </td></tr>\n",
      "      <tr class=\"spacer\" style=\"height:5px\"></tr>\n",
      "                <tr class='athing' id='18445652'>\n",
      "      <td align=\"right\" valign=\"top\" class=\"title\"><span class=\"rank\">2.</span></td>      <td valign=\"top\" class=\"votelinks\"><center><a id='up_18445652' href='vote?id=18445652&amp;how=up&amp;goto=news'><div class='votearrow' title='upvote'></div></a></center></td><td class=\"title\"><a href=\"https://www.uofmhealth.org/news/sinus-hepa-0630\" class=\"storylink\">Build a do-it-yourself home air purifier for about $25</a><span class=\"sitebit comhead\"> (<a href=\"from?site=uofmhealth.org\"><span class=\"sitestr\">uofmhealth.org</span></a>)</span></td></tr><tr><td colspan=\"2\"></td><td class=\"subtext\">\n",
      "        <span class=\"score\" id=\"score_18445652\">517 points</span> by <a href=\"user?id=io_io\" class=\"hnuser\">io_io</a> <span class=\"age\"><a href=\"item?id=18445652\">11 hours ago</a></span> <span id=\"unv_18445652\"></span> | <a href=\"hide?id=18445652&amp;goto=news\">hide</a> | <a href=\"item?id=18445652\">220&nbsp;comments</a>              </td></tr>\n",
      "      <tr class=\"spacer\" style=\"height:5px\"></tr>\n",
      "                <tr class='athing' id='18448518'>\n",
      "      <td align=\"right\" valign=\"top\" class=\"title\"><span class=\"rank\">3.</span></td>      <td valign=\"top\" class=\"votelinks\"><center><a id='up_18448518' href='vote?id=18448518&amp;how=up&amp;goto=news'><div class='votearrow' title='upvote'></div></a></center></td><td class=\"title\"><a href=\"http://www.bbc.com/travel/gallery/20181113-the-last-velvet-merchant-of-venice\" class=\"storylink\">The last velvet merchant of Venice</a><span class=\"sitebit comhead\"> (<a href=\"from?site=bbc.com\"><span class=\"sitestr\">bbc.com</span></a>)</span></td></tr><tr><td colspan=\"2\"></td><td class=\"subtext\">\n",
      "        <span class=\"score\" id=\"score_18448518\">14 points</span> by <a href=\"user?id=ErnstByner21\" class=\"hnuser\">ErnstByner21</a> <span class=\"age\"><a href=\"item?id=18448518\">1 hour ago</a></span> <span id=\"unv_18448518\"></span> | <a href=\"hide?id=18448518&amp;goto=news\">hide</a> | <a href=\"item?id=18448518\">3&nbsp;comments</a>              </td></tr>\n",
      "      <tr class=\"spacer\" style=\"height:5px\"></tr>\n",
      "                <tr class='athing' id='18446278'>\n",
      "      <td align=\"right\" valign=\"top\" class=\"title\"><span class=\"rank\">4.</span></td>      <td valign=\"top\" class=\"votelinks\"><center><a id='up_18446278' href='vote?id=18446278&amp;how=up&amp;goto=news'><div class='votearrow' title='upvote'></div></a></center></td><td class=\"title\"><a href=\"https://hacks.mozilla.org/2018/11/firefox-sync-privacy/\" class=\"storylink\">Private by Design: How We Built Firefox Sync</a><span class=\"sitebit comhead\"> (<a href=\"from?site=hacks.mozilla.org\"><span class=\"sitestr\">hacks.mozilla.org</span></a>)</span></td></tr><tr><td colspan=\"2\"></td><td class=\"subtext\">\n",
      "        <span class=\"score\" id=\"score_18446278\">332 points</span> by <a href=\"user?id=feross\" class=\"hnuser\">feross</a> <span class=\"age\"><a href=\"item?id=18446278\">10 hours ago</a></span> <span id=\"unv_18446278\"></span> | <a href=\"hide?id=18446278&amp;goto=news\">hide</a> | <a href=\"item?id=18446278\">98&nbsp;comments</a>              </td></tr>\n",
      "      <tr class=\"spacer\" style=\"height:5px\"></tr>\n",
      "                <tr class='athing' id='18447171'>\n",
      "      <td align=\"right\" valign=\"top\" class=\"title\"><span class=\"rank\">5.</span></td>      <td valign=\"top\" class=\"votelinks\"><center><a id='up_18447171' href='vote?id=18447171&amp;how=up&amp;goto=news'><div class='votearrow' title='upvote'></div></a></center></td><td class=\"title\"><a href=\"https://www.bloomberg.com/news/articles/2018-11-14/snap-says-doj-and-sec-are-investigating-ipo-disclosures\" class=\"storylink\">Snap Says DOJ and SEC Are Investigating IPO Disclosures</a><span class=\"sitebit comhead\"> (<a href=\"from?site=bloomberg.com\"><span class=\"sitestr\">bloomberg.com</span></a>)</span></td></tr><tr><td colspan=\"2\"></td><td class=\"subtext\">\n",
      "        <span class=\"score\" id=\"score_18447171\">83 points</span> by <a href=\"user?id=raiyu\" class=\"hnuser\">raiyu</a> <span class=\"age\"><a href=\"item?id=18447171\">7 hours ago</a></span> <span id=\"unv_18447171\"></span> | <a href=\"hide?id=18447171&amp;goto=news\">hide</a> | <a href=\"item?id=18447171\">47&nbsp;comments</a>              </td></tr>\n",
      "      <tr class=\"spacer\" style=\"height:5px\"></tr>\n",
      "                <tr class='athing' id='18445714'>\n",
      "      <td align=\"right\" valign=\"top\" class=\"title\"><span class=\"rank\">6.</span></td>      <td valign=\"top\" class=\"votelinks\"><center><a id='up_18445714' href='vote?id=18445714&amp;how=up&amp;goto=news'><div class='votearrow' title='upvote'></div></a></center></td><td class=\"title\"><a href=\"https://www.marketwatch.com/story/waymo-ceo-says-driverless-car-service-coming-soon-2018-11-13\" class=\"storylink\">Waymo CEO Says Alphabet Unit Plans to Launch Driverless Car Service</a><span class=\"sitebit comhead\"> (<a href=\"from?site=marketwatch.com\"><span class=\"sitestr\">marketwatch.com</span></a>)</span></td></tr><tr><td colspan=\"2\"></td><td class=\"subtext\">\n",
      "        <span class=\"score\" id=\"score_18445714\">332 points</span> by <a href=\"user?id=sidhanthp\" class=\"hnuser\">sidhanthp</a> <span class=\"age\"><a href=\"item?id=18445714\">11 hours ago</a></span> <span id=\"unv_18445714\"></span> | <a href=\"hide?id=18445714&amp;goto=news\">hide</a> | <a href=\"item?id=18445714\">268&nbsp;comments</a>              </td></tr>\n",
      "      <tr class=\"spacer\" style=\"height:5px\"></tr>\n",
      "                <tr class='athing' id='18440395'>\n",
      "      <td align=\"right\" valign=\"top\" class=\"title\"><span class=\"rank\">7.</span></td>      <td valign=\"top\" class=\"votelinks\"><center><a id='up_18440395' href='vote?id=18440395&amp;how=up&amp;goto=news'><div class='votearrow' title='upvote'></div></a></center></td><td class=\"title\"><a href=\"https://papers.ssrn.com/sol3/papers.cfm?abstract_id=3248286\" class=\"storylink\">Compelled Decryption and the Privilege Against Self-Incrimination</a><span class=\"sitebit comhead\"> (<a href=\"from?site=ssrn.com\"><span class=\"sitestr\">ssrn.com</span></a>)</span></td></tr><tr><td colspan=\"2\"></td><td class=\"subtext\">\n",
      "        <span class=\"score\" id=\"score_18440395\">17 points</span> by <a href=\"user?id=mrleiter\" class=\"hnuser\">mrleiter</a> <span class=\"age\"><a href=\"item?id=18440395\">3 hours ago</a></span> <span id=\"unv_18440395\"></span> | <a href=\"hide?id=18440395&amp;goto=news\">hide</a> | <a href=\"item?id=18440395\">4&nbsp;comments</a>              </td></tr>\n",
      "      <tr class=\"spacer\" style=\"height:5px\"></tr>\n",
      "                <tr class='athing' id='18448480'>\n",
      "      <td align=\"right\" valign=\"top\" class=\"title\"><span class=\"rank\">8.</span></td>      <td valign=\"top\" class=\"votelinks\"><center><a id='up_18448480' href='vote?id=18448480&amp;how=up&amp;goto=news'><div class='votearrow' title='upvote'></div></a></center></td><td class=\"title\"><a href=\"http://nautil.us/issue/66/clockwork/we-need-an-fda-for-algorithms\" class=\"storylink\">We Need an FDA for Algorithms</a><span class=\"sitebit comhead\"> (<a href=\"from?site=nautil.us\"><span class=\"sitestr\">nautil.us</span></a>)</span></td></tr><tr><td colspan=\"2\"></td><td class=\"subtext\">\n",
      "        <span class=\"score\" id=\"score_18448480\">23 points</span> by <a href=\"user?id=denzil_correa\" class=\"hnuser\">denzil_correa</a> <span class=\"age\"><a href=\"item?id=18448480\">1 hour ago</a></span> <span id=\"unv_18448480\"></span> | <a href=\"hide?id=18448480&amp;goto=news\">hide</a> | <a href=\"item?id=18448480\">20&nbsp;comments</a>              </td></tr>\n",
      "      <tr class=\"spacer\" style=\"height:5px\"></tr>\n",
      "                <tr class='athing' id='18439577'>\n",
      "      <td align=\"right\" valign=\"top\" class=\"title\"><span class=\"rank\">9.</span></td>      <td valign=\"top\" class=\"votelinks\"><center><a id='up_18439577' href='vote?id=18439577&amp;how=up&amp;goto=news'><div class='votearrow' title='upvote'></div></a></center></td><td class=\"title\"><a href=\"https://www.1843magazine.com/content/ideas/ian-leslie/non-cogito-ergo-sum\" class=\"storylink\">Non cogito, ergo sum</a><span class=\"sitebit comhead\"> (<a href=\"from?site=1843magazine.com\"><span class=\"sitestr\">1843magazine.com</span></a>)</span></td></tr><tr><td colspan=\"2\"></td><td class=\"subtext\">\n",
      "        <span class=\"score\" id=\"score_18439577\">38 points</span> by <a href=\"user?id=godelmachine\" class=\"hnuser\">godelmachine</a> <span class=\"age\"><a href=\"item?id=18439577\">5 hours ago</a></span> <span id=\"unv_18439577\"></span> | <a href=\"hide?id=18439577&amp;goto=news\">hide</a> | <a href=\"item?id=18439577\">13&nbsp;comments</a>              </td></tr>\n",
      "      <tr class=\"spacer\" style=\"height:5px\"></tr>\n",
      "                <tr class='athing' id='18445548'>\n",
      "      <td align=\"right\" valign=\"top\" class=\"title\"><span class=\"rank\">10.</span></td>      <td valign=\"top\" class=\"votelinks\"><center><a id='up_18445548' href='vote?id=18445548&amp;how=up&amp;goto=news'><div class='votearrow' title='upvote'></div></a></center></td><td class=\"title\"><a href=\"https://www.bbc.com/news/world-europe-46193818\" class=\"storylink\">Food taste 'not protected by copyright' rules EU court</a><span class=\"sitebit comhead\"> (<a href=\"from?site=bbc.com\"><span class=\"sitestr\">bbc.com</span></a>)</span></td></tr><tr><td colspan=\"2\"></td><td class=\"subtext\">\n",
      "        <span class=\"score\" id=\"score_18445548\">148 points</span> by <a href=\"user?id=sndean\" class=\"hnuser\">sndean</a> <span class=\"age\"><a href=\"item?id=18445548\">12 hours ago</a></span> <span id=\"unv_18445548\"></span> | <a href=\"hide?id=18445548&amp;goto=news\">hide</a> | <a href=\"item?id=18445548\">53&nbsp;comments</a>              </td></tr>\n",
      "      <tr class=\"spacer\" style=\"height:5px\"></tr>\n",
      "                <tr class='athing' id='18439617'>\n",
      "      <td align=\"right\" valign=\"top\" class=\"title\"><span class=\"rank\">11.</span></td>      <td valign=\"top\" class=\"votelinks\"><center><a id='up_18439617' href='vote?id=18439617&amp;how=up&amp;goto=news'><div class='votearrow' title='upvote'></div></a></center></td><td class=\"title\"><a href=\"https://muratbuffalo.blogspot.com/2018/11/is-twitter-causally-consistent.html\" class=\"storylink\" rel=\"nofollow\">Is Twitter causally-consistent?</a><span class=\"sitebit comhead\"> (<a href=\"from?site=muratbuffalo.blogspot.com\"><span class=\"sitestr\">muratbuffalo.blogspot.com</span></a>)</span></td></tr><tr><td colspan=\"2\"></td><td class=\"subtext\">\n",
      "        <span class=\"score\" id=\"score_18439617\">6 points</span> by <a href=\"user?id=ingve\" class=\"hnuser\">ingve</a> <span class=\"age\"><a href=\"item?id=18439617\">1 hour ago</a></span> <span id=\"unv_18439617\"></span> | <a href=\"hide?id=18439617&amp;goto=news\">hide</a> | <a href=\"item?id=18439617\">discuss</a>              </td></tr>\n",
      "      <tr class=\"spacer\" style=\"height:5px\"></tr>\n",
      "                <tr class='athing' id='18446448'>\n",
      "      <td align=\"right\" valign=\"top\" class=\"title\"><span class=\"rank\">12.</span></td>      <td valign=\"top\" class=\"votelinks\"><center><a id='up_18446448' href='vote?id=18446448&amp;how=up&amp;goto=news'><div class='votearrow' title='upvote'></div></a></center></td><td class=\"title\"><a href=\"https://www.wsj.com/articles/blue-apron-lays-off-more-workers-1542148447\" class=\"storylink\">Blue Apron lays off more workers</a><span class=\"sitebit comhead\"> (<a href=\"from?site=wsj.com\"><span class=\"sitestr\">wsj.com</span></a>)</span></td></tr><tr><td colspan=\"2\"></td><td class=\"subtext\">\n",
      "        <span class=\"score\" id=\"score_18446448\">104 points</span> by <a href=\"user?id=crunchlibrarian\" class=\"hnuser\">crunchlibrarian</a> <span class=\"age\"><a href=\"item?id=18446448\">9 hours ago</a></span> <span id=\"unv_18446448\"></span> | <a href=\"hide?id=18446448&amp;goto=news\">hide</a> | <a href=\"item?id=18446448\">151&nbsp;comments</a>              </td></tr>\n",
      "      <tr class=\"spacer\" style=\"height:5px\"></tr>\n",
      "                <tr class='athing' id='18446498'>\n",
      "      <td align=\"right\" valign=\"top\" class=\"title\"><span class=\"rank\">13.</span></td>      <td valign=\"top\" class=\"votelinks\"><center><a id='up_18446498' href='vote?id=18446498&amp;how=up&amp;goto=news'><div class='votearrow' title='upvote'></div></a></center></td><td class=\"title\"><a href=\"https://dailygazette.com/article/2018/11/08/police-woman-remotely-wipes-phone-in-evidence-after-shooting\" class=\"storylink\">Destruction of evidence charges filed for remotely wiping iPhone</a><span class=\"sitebit comhead\"> (<a href=\"from?site=dailygazette.com\"><span class=\"sitestr\">dailygazette.com</span></a>)</span></td></tr><tr><td colspan=\"2\"></td><td class=\"subtext\">\n",
      "        <span class=\"score\" id=\"score_18446498\">62 points</span> by <a href=\"user?id=asimpletune\" class=\"hnuser\">asimpletune</a> <span class=\"age\"><a href=\"item?id=18446498\">9 hours ago</a></span> <span id=\"unv_18446498\"></span> | <a href=\"hide?id=18446498&amp;goto=news\">hide</a> | <a href=\"item?id=18446498\">59&nbsp;comments</a>              </td></tr>\n",
      "      <tr class=\"spacer\" style=\"height:5px\"></tr>\n",
      "                <tr class='athing' id='18439100'>\n",
      "      <td align=\"right\" valign=\"top\" class=\"title\"><span class=\"rank\">14.</span></td>      <td valign=\"top\" class=\"votelinks\"><center><a id='up_18439100' href='vote?id=18439100&amp;how=up&amp;goto=news'><div class='votearrow' title='upvote'></div></a></center></td><td class=\"title\"><a href=\"https://lwn.net/SubscriberLink/771441/96f587a2dec5ba1a/\" class=\"storylink\">C library system-call wrappers, or the lack thereof</a><span class=\"sitebit comhead\"> (<a href=\"from?site=lwn.net\"><span class=\"sitestr\">lwn.net</span></a>)</span></td></tr><tr><td colspan=\"2\"></td><td class=\"subtext\">\n",
      "        <span class=\"score\" id=\"score_18439100\">63 points</span> by <a href=\"user?id=Tomte\" class=\"hnuser\">Tomte</a> <span class=\"age\"><a href=\"item?id=18439100\">9 hours ago</a></span> <span id=\"unv_18439100\"></span> | <a href=\"hide?id=18439100&amp;goto=news\">hide</a> | <a href=\"item?id=18439100\">41&nbsp;comments</a>              </td></tr>\n",
      "      <tr class=\"spacer\" style=\"height:5px\"></tr>\n",
      "                <tr class='athing' id='18443311'>\n",
      "      <td align=\"right\" valign=\"top\" class=\"title\"><span class=\"rank\">15.</span></td>      <td valign=\"top\" class=\"votelinks\"><center><a id='up_18443311' href='vote?id=18443311&amp;how=up&amp;goto=news'><div class='votearrow' title='upvote'></div></a></center></td><td class=\"title\"><a href=\"https://marian42.itch.io/wfc\" class=\"storylink\">Infinite procedurally-generated city with the Wave Function Collapse algorithm</a><span class=\"sitebit comhead\"> (<a href=\"from?site=itch.io\"><span class=\"sitestr\">itch.io</span></a>)</span></td></tr><tr><td colspan=\"2\"></td><td class=\"subtext\">\n",
      "        <span class=\"score\" id=\"score_18443311\">658 points</span> by <a href=\"user?id=guessmyname\" class=\"hnuser\">guessmyname</a> <span class=\"age\"><a href=\"item?id=18443311\">16 hours ago</a></span> <span id=\"unv_18443311\"></span> | <a href=\"hide?id=18443311&amp;goto=news\">hide</a> | <a href=\"item?id=18443311\">117&nbsp;comments</a>              </td></tr>\n",
      "      <tr class=\"spacer\" style=\"height:5px\"></tr>\n",
      "                <tr class='athing' id='18435642'>\n",
      "      <td align=\"right\" valign=\"top\" class=\"title\"><span class=\"rank\">16.</span></td>      <td valign=\"top\" class=\"votelinks\"><center><a id='up_18435642' href='vote?id=18435642&amp;how=up&amp;goto=news'><div class='votearrow' title='upvote'></div></a></center></td><td class=\"title\"><a href=\"https://www.theguardian.com/books/2018/nov/10/anna-burns-milkman-difficult-novel\" class=\"storylink\">Why We Need Difficult Books</a><span class=\"sitebit comhead\"> (<a href=\"from?site=theguardian.com\"><span class=\"sitestr\">theguardian.com</span></a>)</span></td></tr><tr><td colspan=\"2\"></td><td class=\"subtext\">\n",
      "        <span class=\"score\" id=\"score_18435642\">102 points</span> by <a href=\"user?id=lermontov\" class=\"hnuser\">lermontov</a> <span class=\"age\"><a href=\"item?id=18435642\">11 hours ago</a></span> <span id=\"unv_18435642\"></span> | <a href=\"hide?id=18435642&amp;goto=news\">hide</a> | <a href=\"item?id=18435642\">50&nbsp;comments</a>              </td></tr>\n",
      "      <tr class=\"spacer\" style=\"height:5px\"></tr>\n",
      "                <tr class='athing' id='18432301'>\n",
      "      <td align=\"right\" valign=\"top\" class=\"title\"><span class=\"rank\">17.</span></td>      <td valign=\"top\" class=\"votelinks\"><center><a id='up_18432301' href='vote?id=18432301&amp;how=up&amp;goto=news'><div class='votearrow' title='upvote'></div></a></center></td><td class=\"title\"><a href=\"https://priceonomics.com/the-25-best-and-worst-cities-for-nursing-homes/\" class=\"storylink\">Best and Worst Cities for Nursing Homes in the US</a><span class=\"sitebit comhead\"> (<a href=\"from?site=priceonomics.com\"><span class=\"sitestr\">priceonomics.com</span></a>)</span></td></tr><tr><td colspan=\"2\"></td><td class=\"subtext\">\n",
      "        <span class=\"score\" id=\"score_18432301\">36 points</span> by <a href=\"user?id=vinnyglennon\" class=\"hnuser\">vinnyglennon</a> <span class=\"age\"><a href=\"item?id=18432301\">8 hours ago</a></span> <span id=\"unv_18432301\"></span> | <a href=\"hide?id=18432301&amp;goto=news\">hide</a> | <a href=\"item?id=18432301\">5&nbsp;comments</a>              </td></tr>\n",
      "      <tr class=\"spacer\" style=\"height:5px\"></tr>\n",
      "                <tr class='athing' id='18445685'>\n",
      "      <td align=\"right\" valign=\"top\" class=\"title\"><span class=\"rank\">18.</span></td>      <td valign=\"top\" class=\"votelinks\"><center><a id='up_18445685' href='vote?id=18445685&amp;how=up&amp;goto=news'><div class='votearrow' title='upvote'></div></a></center></td><td class=\"title\"><a href=\"https://gist.github.com/DavidBuchanan314/b9230fe7d335a1caf90483dbb00a5375\" class=\"storylink\">Abusing C macros to render the Mandelbrot Set at compile-time</a><span class=\"sitebit comhead\"> (<a href=\"from?site=gist.github.com\"><span class=\"sitestr\">gist.github.com</span></a>)</span></td></tr><tr><td colspan=\"2\"></td><td class=\"subtext\">\n",
      "        <span class=\"score\" id=\"score_18445685\">109 points</span> by <a href=\"user?id=DavidBuchanan\" class=\"hnuser\">DavidBuchanan</a> <span class=\"age\"><a href=\"item?id=18445685\">11 hours ago</a></span> <span id=\"unv_18445685\"></span> | <a href=\"hide?id=18445685&amp;goto=news\">hide</a> | <a href=\"item?id=18445685\">17&nbsp;comments</a>              </td></tr>\n",
      "      <tr class=\"spacer\" style=\"height:5px\"></tr>\n",
      "                <tr class='athing' id='18447616'>\n",
      "      <td align=\"right\" valign=\"top\" class=\"title\"><span class=\"rank\">19.</span></td>      <td valign=\"top\" class=\"votelinks\"><center><a id='up_18447616' href='vote?id=18447616&amp;how=up&amp;goto=news'><div class='votearrow' title='upvote'></div></a></center></td><td class=\"title\"><a href=\"https://spectator.us/robots-ancient-greeks-loved-alexa/\" class=\"storylink\">Gods and Robots: Myths, Machines, and Ancient Dreams of Technology</a><span class=\"sitebit comhead\"> (<a href=\"from?site=spectator.us\"><span class=\"sitestr\">spectator.us</span></a>)</span></td></tr><tr><td colspan=\"2\"></td><td class=\"subtext\">\n",
      "        <span class=\"score\" id=\"score_18447616\">10 points</span> by <a href=\"user?id=diodorus\" class=\"hnuser\">diodorus</a> <span class=\"age\"><a href=\"item?id=18447616\">4 hours ago</a></span> <span id=\"unv_18447616\"></span> | <a href=\"hide?id=18447616&amp;goto=news\">hide</a> | <a href=\"item?id=18447616\">discuss</a>              </td></tr>\n",
      "      <tr class=\"spacer\" style=\"height:5px\"></tr>\n",
      "                <tr class='athing' id='18447142'>\n",
      "      <td align=\"right\" valign=\"top\" class=\"title\"><span class=\"rank\">20.</span></td>      <td valign=\"top\" class=\"votelinks\"><center><a id='up_18447142' href='vote?id=18447142&amp;how=up&amp;goto=news'><div class='votearrow' title='upvote'></div></a></center></td><td class=\"title\"><a href=\"https://www.imf.org/en/News/Articles/2018/11/13/sp111418-winds-of-change-the-case-for-new-digital-currency\" class=\"storylink\">Winds of Change: The Case for New Digital Currency</a><span class=\"sitebit comhead\"> (<a href=\"from?site=imf.org\"><span class=\"sitestr\">imf.org</span></a>)</span></td></tr><tr><td colspan=\"2\"></td><td class=\"subtext\">\n",
      "        <span class=\"score\" id=\"score_18447142\">30 points</span> by <a href=\"user?id=T-A\" class=\"hnuser\">T-A</a> <span class=\"age\"><a href=\"item?id=18447142\">7 hours ago</a></span> <span id=\"unv_18447142\"></span> | <a href=\"hide?id=18447142&amp;goto=news\">hide</a> | <a href=\"item?id=18447142\">6&nbsp;comments</a>              </td></tr>\n",
      "      <tr class=\"spacer\" style=\"height:5px\"></tr>\n",
      "                <tr class='athing' id='18442637'>\n",
      "      <td align=\"right\" valign=\"top\" class=\"title\"><span class=\"rank\">21.</span></td>      <td valign=\"top\" class=\"votelinks\"><center><a id='up_18442637' href='vote?id=18442637&amp;how=up&amp;goto=news'><div class='votearrow' title='upvote'></div></a></center></td><td class=\"title\"><a href=\"item?id=18442637\" class=\"storylink\">Ask HN: What's the largest amount of bad code you have ever seen work?</a></td></tr><tr><td colspan=\"2\"></td><td class=\"subtext\">\n",
      "        <span class=\"score\" id=\"score_18442637\">159 points</span> by <a href=\"user?id=nobody271\" class=\"hnuser\">nobody271</a> <span class=\"age\"><a href=\"item?id=18442637\">12 hours ago</a></span> <span id=\"unv_18442637\"></span> | <a href=\"hide?id=18442637&amp;goto=news\">hide</a> | <a href=\"item?id=18442637\">256&nbsp;comments</a>              </td></tr>\n",
      "      <tr class=\"spacer\" style=\"height:5px\"></tr>\n",
      "                <tr class='athing' id='18445748'>\n",
      "      <td align=\"right\" valign=\"top\" class=\"title\"><span class=\"rank\">22.</span></td>      <td valign=\"top\" class=\"votelinks\"><center><a id='up_18445748' href='vote?id=18445748&amp;how=up&amp;goto=news'><div class='votearrow' title='upvote'></div></a></center></td><td class=\"title\"><a href=\"item?id=18445748\" class=\"storylink\">Show HN: Squally – A Game to Teach Low Level Computer Science</a></td></tr><tr><td colspan=\"2\"></td><td class=\"subtext\">\n",
      "        <span class=\"score\" id=\"score_18445748\">89 points</span> by <a href=\"user?id=zcanann\" class=\"hnuser\">zcanann</a> <span class=\"age\"><a href=\"item?id=18445748\">11 hours ago</a></span> <span id=\"unv_18445748\"></span> | <a href=\"hide?id=18445748&amp;goto=news\">hide</a> | <a href=\"item?id=18445748\">19&nbsp;comments</a>              </td></tr>\n",
      "      <tr class=\"spacer\" style=\"height:5px\"></tr>\n",
      "                <tr class='athing' id='18439977'>\n",
      "      <td align=\"right\" valign=\"top\" class=\"title\"><span class=\"rank\">23.</span></td>      <td valign=\"top\" class=\"votelinks\"><center><a id='up_18439977' href='vote?id=18439977&amp;how=up&amp;goto=news'><div class='votearrow' title='upvote'></div></a></center></td><td class=\"title\"><a href=\"https://www.newyorker.com/magazine/2018/11/19/how-podcasts-became-a-seductive-and-sometimes-slippery-mode-of-storytelling\" class=\"storylink\">How Podcasts Became a Seductive and Sometimes Slippery Mode of Storytelling</a><span class=\"sitebit comhead\"> (<a href=\"from?site=newyorker.com\"><span class=\"sitestr\">newyorker.com</span></a>)</span></td></tr><tr><td colspan=\"2\"></td><td class=\"subtext\">\n",
      "        <span class=\"score\" id=\"score_18439977\">38 points</span> by <a href=\"user?id=tontonius\" class=\"hnuser\">tontonius</a> <span class=\"age\"><a href=\"item?id=18439977\">9 hours ago</a></span> <span id=\"unv_18439977\"></span> | <a href=\"hide?id=18439977&amp;goto=news\">hide</a> | <a href=\"item?id=18439977\">9&nbsp;comments</a>              </td></tr>\n",
      "      <tr class=\"spacer\" style=\"height:5px\"></tr>\n",
      "                <tr class='athing' id='18442775'>\n",
      "      <td align=\"right\" valign=\"top\" class=\"title\"><span class=\"rank\">24.</span></td>      <td valign=\"top\" class=\"votelinks\"><center><a id='up_18442775' href='vote?id=18442775&amp;how=up&amp;goto=news'><div class='votearrow' title='upvote'></div></a></center></td><td class=\"title\"><a href=\"https://www.ouster.io/blog-posts/2018/11/8/how-multi-beam-flash-lidar-works\" class=\"storylink\">How Multi-Beam Flash Lidar Works</a><span class=\"sitebit comhead\"> (<a href=\"from?site=ouster.io\"><span class=\"sitestr\">ouster.io</span></a>)</span></td></tr><tr><td colspan=\"2\"></td><td class=\"subtext\">\n",
      "        <span class=\"score\" id=\"score_18442775\">169 points</span> by <a href=\"user?id=derek_frome\" class=\"hnuser\">derek_frome</a> <span class=\"age\"><a href=\"item?id=18442775\">17 hours ago</a></span> <span id=\"unv_18442775\"></span> | <a href=\"hide?id=18442775&amp;goto=news\">hide</a> | <a href=\"item?id=18442775\">59&nbsp;comments</a>              </td></tr>\n",
      "      <tr class=\"spacer\" style=\"height:5px\"></tr>\n",
      "                <tr class='athing' id='18441767'>\n",
      "      <td align=\"right\" valign=\"top\" class=\"title\"><span class=\"rank\">25.</span></td>      <td valign=\"top\" class=\"votelinks\"><center><a id='up_18441767' href='vote?id=18441767&amp;how=up&amp;goto=news'><div class='votearrow' title='upvote'></div></a></center></td><td class=\"title\"><a href=\"http://danghica.blogspot.com/2018/11/zippers-for-non-inductive-types.html\" class=\"storylink\">Zippers for non-inductive types</a><span class=\"sitebit comhead\"> (<a href=\"from?site=danghica.blogspot.com\"><span class=\"sitestr\">danghica.blogspot.com</span></a>)</span></td></tr><tr><td colspan=\"2\"></td><td class=\"subtext\">\n",
      "        <span class=\"score\" id=\"score_18441767\">21 points</span> by <a href=\"user?id=matt_d\" class=\"hnuser\">matt_d</a> <span class=\"age\"><a href=\"item?id=18441767\">5 hours ago</a></span> <span id=\"unv_18441767\"></span> | <a href=\"hide?id=18441767&amp;goto=news\">hide</a> | <a href=\"item?id=18441767\">discuss</a>              </td></tr>\n",
      "      <tr class=\"spacer\" style=\"height:5px\"></tr>\n",
      "                <tr class='athing' id='18445609'>\n",
      "      <td align=\"right\" valign=\"top\" class=\"title\"><span class=\"rank\">26.</span></td>      <td valign=\"top\" class=\"votelinks\"><center><a id='up_18445609' href='vote?id=18445609&amp;how=up&amp;goto=news'><div class='votearrow' title='upvote'></div></a></center></td><td class=\"title\"><a href=\"item?id=18445609\" class=\"storylink\">Ask HN: I've been a programmer for 6 years, and I can't solve basic CS problems</a></td></tr><tr><td colspan=\"2\"></td><td class=\"subtext\">\n",
      "        <span class=\"score\" id=\"score_18445609\">245 points</span> by <a href=\"user?id=cs0\" class=\"hnuser\">cs0</a> <span class=\"age\"><a href=\"item?id=18445609\">12 hours ago</a></span> <span id=\"unv_18445609\"></span> | <a href=\"hide?id=18445609&amp;goto=news\">hide</a> | <a href=\"item?id=18445609\">195&nbsp;comments</a>              </td></tr>\n",
      "      <tr class=\"spacer\" style=\"height:5px\"></tr>\n",
      "                <tr class='athing' id='18434829'>\n",
      "      <td align=\"right\" valign=\"top\" class=\"title\"><span class=\"rank\">27.</span></td>      <td valign=\"top\" class=\"votelinks\"><center><a id='up_18434829' href='vote?id=18434829&amp;how=up&amp;goto=news'><div class='votearrow' title='upvote'></div></a></center></td><td class=\"title\"><a href=\"https://blog.cloudflare.com/the-rise-of-multivector-amplifications/#\" class=\"storylink\">The rise of multivector DDoS attacks</a><span class=\"sitebit comhead\"> (<a href=\"from?site=cloudflare.com\"><span class=\"sitestr\">cloudflare.com</span></a>)</span></td></tr><tr><td colspan=\"2\"></td><td class=\"subtext\">\n",
      "        <span class=\"score\" id=\"score_18434829\">101 points</span> by <a href=\"user?id=majke\" class=\"hnuser\">majke</a> <span class=\"age\"><a href=\"item?id=18434829\">14 hours ago</a></span> <span id=\"unv_18434829\"></span> | <a href=\"hide?id=18434829&amp;goto=news\">hide</a> | <a href=\"item?id=18434829\">13&nbsp;comments</a>              </td></tr>\n",
      "      <tr class=\"spacer\" style=\"height:5px\"></tr>\n",
      "                <tr class='athing' id='18441804'>\n",
      "      <td align=\"right\" valign=\"top\" class=\"title\"><span class=\"rank\">28.</span></td>      <td valign=\"top\" class=\"votelinks\"><center><a id='up_18441804' href='vote?id=18441804&amp;how=up&amp;goto=news'><div class='votearrow' title='upvote'></div></a></center></td><td class=\"title\"><a href=\"https://steveblank.com/2018/11/13/its-not-change-you-fear-its-loss/\" class=\"storylink\">How to Keep Your Job as Your Company Grows</a><span class=\"sitebit comhead\"> (<a href=\"from?site=steveblank.com\"><span class=\"sitestr\">steveblank.com</span></a>)</span></td></tr><tr><td colspan=\"2\"></td><td class=\"subtext\">\n",
      "        <span class=\"score\" id=\"score_18441804\">496 points</span> by <a href=\"user?id=Raj7k\" class=\"hnuser\">Raj7k</a> <span class=\"age\"><a href=\"item?id=18441804\">19 hours ago</a></span> <span id=\"unv_18441804\"></span> | <a href=\"hide?id=18441804&amp;goto=news\">hide</a> | <a href=\"item?id=18441804\">183&nbsp;comments</a>              </td></tr>\n",
      "      <tr class=\"spacer\" style=\"height:5px\"></tr>\n",
      "                <tr class='athing' id='18447957'>\n",
      "      <td align=\"right\" valign=\"top\" class=\"title\"><span class=\"rank\">29.</span></td>      <td valign=\"top\" class=\"votelinks\"><center><a id='up_18447957' href='vote?id=18447957&amp;how=up&amp;goto=news'><div class='votearrow' title='upvote'></div></a></center></td><td class=\"title\"><a href=\"https://itshello.co\" class=\"storylink\" rel=\"nofollow\">Show HN: Group Video Chat. No Signups. No Downloads</a><span class=\"sitebit comhead\"> (<a href=\"from?site=itshello.co\"><span class=\"sitestr\">itshello.co</span></a>)</span></td></tr><tr><td colspan=\"2\"></td><td class=\"subtext\">\n",
      "        <span class=\"score\" id=\"score_18447957\">10 points</span> by <a href=\"user?id=vasanthv\" class=\"hnuser\">vasanthv</a> <span class=\"age\"><a href=\"item?id=18447957\">4 hours ago</a></span> <span id=\"unv_18447957\"></span> | <a href=\"hide?id=18447957&amp;goto=news\">hide</a> | <a href=\"item?id=18447957\">2&nbsp;comments</a>              </td></tr>\n",
      "      <tr class=\"spacer\" style=\"height:5px\"></tr>\n",
      "                <tr class='athing' id='18440747'>\n",
      "      <td align=\"right\" valign=\"top\" class=\"title\"><span class=\"rank\">30.</span></td>      <td valign=\"top\" class=\"votelinks\"><center><a id='up_18440747' href='vote?id=18440747&amp;how=up&amp;goto=news'><div class='votearrow' title='upvote'></div></a></center></td><td class=\"title\"><a href=\"https://solomon.io/brief-history-of-clip-art/\" class=\"storylink\" rel=\"nofollow\">A Brief History of Clip Art</a><span class=\"sitebit comhead\"> (<a href=\"from?site=solomon.io\"><span class=\"sitestr\">solomon.io</span></a>)</span></td></tr><tr><td colspan=\"2\"></td><td class=\"subtext\">\n",
      "        <span class=\"score\" id=\"score_18440747\">4 points</span> by <a href=\"user?id=samsolomon\" class=\"hnuser\">samsolomon</a> <span class=\"age\"><a href=\"item?id=18440747\">2 hours ago</a></span> <span id=\"unv_18440747\"></span> | <a href=\"hide?id=18440747&amp;goto=news\">hide</a> | <a href=\"item?id=18440747\">1&nbsp;comment</a>              </td></tr>\n",
      "      <tr class=\"spacer\" style=\"height:5px\"></tr>\n",
      "            <tr class=\"morespace\" style=\"height:10px\"></tr><tr><td colspan=\"2\"></td><td class=\"title\"><a href=\"news?p=2\" class=\"morelink\" rel=\"nofollow\">More</a></td></tr>\n",
      "  </table>\n",
      "</td></tr>\n",
      "<tr><td><img src=\"s.gif\" height=\"10\" width=\"0\"><table width=\"100%\" cellspacing=\"0\" cellpadding=\"1\"><tr><td bgcolor=\"#ff6600\"></td></tr></table><br><center><span class=\"yclinks\"><a href=\"newsguidelines.html\">Guidelines</a>\n",
      "        | <a href=\"newsfaq.html\">FAQ</a>\n",
      "        | <a href=\"mailto:hn@ycombinator.com\">Support</a>\n",
      "        | <a href=\"https://github.com/HackerNews/API\">API</a>\n",
      "        | <a href=\"security.html\">Security</a>\n",
      "        | <a href=\"lists\">Lists</a>\n",
      "        | <a href=\"bookmarklet.html\" rel=\"nofollow\">Bookmarklet</a>\n",
      "        | <a href=\"http://www.ycombinator.com/legal/\">Legal</a>\n",
      "        | <a href=\"http://www.ycombinator.com/apply/\">Apply to YC</a>\n",
      "        | <a href=\"mailto:hn@ycombinator.com\">Contact</a></span><br><br><form method=\"get\" action=\"//hn.algolia.com/\">Search:\n",
      "          <input type=\"text\" name=\"q\" value=\"\" size=\"17\" autocorrect=\"off\" spellcheck=\"false\" autocapitalize=\"off\" autocomplete=\"false\"></form>\n",
      "            </center></td></tr>\n",
      "      </table></center></body><script type='text/javascript' src='hn.js?bKMiySB2nhUo09N5Z8Du'></script>\n",
      "  </html>\n",
      "\n"
     ]
    }
   ],
   "source": [
    "import requests\n",
    "\n",
    "# Fetch a web page\n",
    "r = requests.get(\"https://news.ycombinator.com\")\n",
    "print(r.text)"
   ]
  },
  {
   "cell_type": "code",
   "execution_count": 11,
   "metadata": {},
   "outputs": [
    {
     "name": "stdout",
     "output_type": "stream",
     "text": [
      "\n",
      "            \n",
      "          \n",
      "        Hacker News\n",
      "        \n",
      "                  Hacker News\n",
      "              new | comments | show | ask | jobs | submit            \n",
      "                              login\n",
      "                          \n",
      "              \n",
      "\n",
      "              \n",
      "      1.      Chinese Tokamak reaches over 100M degrees (cas.cn)\n",
      "        177 points by 7ero 5 hours ago  | hide | 80&nbsp;comments              \n",
      "      \n",
      "                \n",
      "      2.      Build a do-it-yourself home air purifier for about $25 (uofmhealth.org)\n",
      "        517 points by io_io 11 hours ago  | hide | 220&nbsp;comments              \n",
      "      \n",
      "                \n",
      "      3.      The last velvet merchant of Venice (bbc.com)\n",
      "        14 points by ErnstByner21 1 hour ago  | hide | 3&nbsp;comments              \n",
      "      \n",
      "                \n",
      "      4.      Private by Design: How We Built Firefox Sync (hacks.mozilla.org)\n",
      "        332 points by feross 10 hours ago  | hide | 98&nbsp;comments              \n",
      "      \n",
      "                \n",
      "      5.      Snap Says DOJ and SEC Are Investigating IPO Disclosures (bloomberg.com)\n",
      "        83 points by raiyu 7 hours ago  | hide | 47&nbsp;comments              \n",
      "      \n",
      "                \n",
      "      6.      Waymo CEO Says Alphabet Unit Plans to Launch Driverless Car Service (marketwatch.com)\n",
      "        332 points by sidhanthp 11 hours ago  | hide | 268&nbsp;comments              \n",
      "      \n",
      "                \n",
      "      7.      Compelled Decryption and the Privilege Against Self-Incrimination (ssrn.com)\n",
      "        17 points by mrleiter 3 hours ago  | hide | 4&nbsp;comments              \n",
      "      \n",
      "                \n",
      "      8.      We Need an FDA for Algorithms (nautil.us)\n",
      "        23 points by denzil_correa 1 hour ago  | hide | 20&nbsp;comments              \n",
      "      \n",
      "                \n",
      "      9.      Non cogito, ergo sum (1843magazine.com)\n",
      "        38 points by godelmachine 5 hours ago  | hide | 13&nbsp;comments              \n",
      "      \n",
      "                \n",
      "      10.      Food taste 'not protected by copyright' rules EU court (bbc.com)\n",
      "        148 points by sndean 12 hours ago  | hide | 53&nbsp;comments              \n",
      "      \n",
      "                \n",
      "      11.      Is Twitter causally-consistent? (muratbuffalo.blogspot.com)\n",
      "        6 points by ingve 1 hour ago  | hide | discuss              \n",
      "      \n",
      "                \n",
      "      12.      Blue Apron lays off more workers (wsj.com)\n",
      "        104 points by crunchlibrarian 9 hours ago  | hide | 151&nbsp;comments              \n",
      "      \n",
      "                \n",
      "      13.      Destruction of evidence charges filed for remotely wiping iPhone (dailygazette.com)\n",
      "        62 points by asimpletune 9 hours ago  | hide | 59&nbsp;comments              \n",
      "      \n",
      "                \n",
      "      14.      C library system-call wrappers, or the lack thereof (lwn.net)\n",
      "        63 points by Tomte 9 hours ago  | hide | 41&nbsp;comments              \n",
      "      \n",
      "                \n",
      "      15.      Infinite procedurally-generated city with the Wave Function Collapse algorithm (itch.io)\n",
      "        658 points by guessmyname 16 hours ago  | hide | 117&nbsp;comments              \n",
      "      \n",
      "                \n",
      "      16.      Why We Need Difficult Books (theguardian.com)\n",
      "        102 points by lermontov 11 hours ago  | hide | 50&nbsp;comments              \n",
      "      \n",
      "                \n",
      "      17.      Best and Worst Cities for Nursing Homes in the US (priceonomics.com)\n",
      "        36 points by vinnyglennon 8 hours ago  | hide | 5&nbsp;comments              \n",
      "      \n",
      "                \n",
      "      18.      Abusing C macros to render the Mandelbrot Set at compile-time (gist.github.com)\n",
      "        109 points by DavidBuchanan 11 hours ago  | hide | 17&nbsp;comments              \n",
      "      \n",
      "                \n",
      "      19.      Gods and Robots: Myths, Machines, and Ancient Dreams of Technology (spectator.us)\n",
      "        10 points by diodorus 4 hours ago  | hide | discuss              \n",
      "      \n",
      "                \n",
      "      20.      Winds of Change: The Case for New Digital Currency (imf.org)\n",
      "        30 points by T-A 7 hours ago  | hide | 6&nbsp;comments              \n",
      "      \n",
      "                \n",
      "      21.      Ask HN: What's the largest amount of bad code you have ever seen work?\n",
      "        159 points by nobody271 12 hours ago  | hide | 256&nbsp;comments              \n",
      "      \n",
      "                \n",
      "      22.      Show HN: Squally – A Game to Teach Low Level Computer Science\n",
      "        89 points by zcanann 11 hours ago  | hide | 19&nbsp;comments              \n",
      "      \n",
      "                \n",
      "      23.      How Podcasts Became a Seductive and Sometimes Slippery Mode of Storytelling (newyorker.com)\n",
      "        38 points by tontonius 9 hours ago  | hide | 9&nbsp;comments              \n",
      "      \n",
      "                \n",
      "      24.      How Multi-Beam Flash Lidar Works (ouster.io)\n",
      "        169 points by derek_frome 17 hours ago  | hide | 59&nbsp;comments              \n",
      "      \n",
      "                \n",
      "      25.      Zippers for non-inductive types (danghica.blogspot.com)\n",
      "        21 points by matt_d 5 hours ago  | hide | discuss              \n",
      "      \n",
      "                \n",
      "      26.      Ask HN: I've been a programmer for 6 years, and I can't solve basic CS problems\n",
      "        245 points by cs0 12 hours ago  | hide | 195&nbsp;comments              \n",
      "      \n",
      "                \n",
      "      27.      The rise of multivector DDoS attacks (cloudflare.com)\n",
      "        101 points by majke 14 hours ago  | hide | 13&nbsp;comments              \n",
      "      \n",
      "                \n",
      "      28.      How to Keep Your Job as Your Company Grows (steveblank.com)\n",
      "        496 points by Raj7k 19 hours ago  | hide | 183&nbsp;comments              \n",
      "      \n",
      "                \n",
      "      29.      Show HN: Group Video Chat. No Signups. No Downloads (itshello.co)\n",
      "        10 points by vasanthv 4 hours ago  | hide | 2&nbsp;comments              \n",
      "      \n",
      "                \n",
      "      30.      A Brief History of Clip Art (solomon.io)\n",
      "        4 points by samsolomon 2 hours ago  | hide | 1&nbsp;comment              \n",
      "      \n",
      "            More\n",
      "  \n",
      "\n",
      "Guidelines\n",
      "        | FAQ\n",
      "        | Support\n",
      "        | API\n",
      "        | Security\n",
      "        | Lists\n",
      "        | Bookmarklet\n",
      "        | Legal\n",
      "        | Apply to YC\n",
      "        | ContactSearch:\n",
      "          \n",
      "            \n",
      "      \n",
      "  \n",
      "\n"
     ]
    }
   ],
   "source": [
    "import re\n",
    "\n",
    "# Remove HTML tags using RegEx\n",
    "pattern = re.compile(r'<.*?>')  # tags look like <...>\n",
    "print(pattern.sub('', r.text))  # replace them with blank"
   ]
  },
  {
   "cell_type": "code",
   "execution_count": 12,
   "metadata": {},
   "outputs": [
    {
     "name": "stdout",
     "output_type": "stream",
     "text": [
      "\n",
      "            \n",
      "          \n",
      "        Hacker News\n",
      "        \n",
      "                  Hacker News\n",
      "              new | comments | show | ask | jobs | submit            \n",
      "                              login\n",
      "                          \n",
      "              \n",
      "\n",
      "              \n",
      "      1.      Chinese Tokamak reaches over 100M degrees (cas.cn)\n",
      "        177 points by 7ero 5 hours ago  | hide | 80 comments              \n",
      "      \n",
      "                \n",
      "      2.      Build a do-it-yourself home air purifier for about $25 (uofmhealth.org)\n",
      "        517 points by io_io 11 hours ago  | hide | 220 comments              \n",
      "      \n",
      "                \n",
      "      3.      The last velvet merchant of Venice (bbc.com)\n",
      "        14 points by ErnstByner21 1 hour ago  | hide | 3 comments              \n",
      "      \n",
      "                \n",
      "      4.      Private by Design: How We Built Firefox Sync (hacks.mozilla.org)\n",
      "        332 points by feross 10 hours ago  | hide | 98 comments              \n",
      "      \n",
      "                \n",
      "      5.      Snap Says DOJ and SEC Are Investigating IPO Disclosures (bloomberg.com)\n",
      "        83 points by raiyu 7 hours ago  | hide | 47 comments              \n",
      "      \n",
      "                \n",
      "      6.      Waymo CEO Says Alphabet Unit Plans to Launch Driverless Car Service (marketwatch.com)\n",
      "        332 points by sidhanthp 11 hours ago  | hide | 268 comments              \n",
      "      \n",
      "                \n",
      "      7.      Compelled Decryption and the Privilege Against Self-Incrimination (ssrn.com)\n",
      "        17 points by mrleiter 3 hours ago  | hide | 4 comments              \n",
      "      \n",
      "                \n",
      "      8.      We Need an FDA for Algorithms (nautil.us)\n",
      "        23 points by denzil_correa 1 hour ago  | hide | 20 comments              \n",
      "      \n",
      "                \n",
      "      9.      Non cogito, ergo sum (1843magazine.com)\n",
      "        38 points by godelmachine 5 hours ago  | hide | 13 comments              \n",
      "      \n",
      "                \n",
      "      10.      Food taste 'not protected by copyright' rules EU court (bbc.com)\n",
      "        148 points by sndean 12 hours ago  | hide | 53 comments              \n",
      "      \n",
      "                \n",
      "      11.      Is Twitter causally-consistent? (muratbuffalo.blogspot.com)\n",
      "        6 points by ingve 1 hour ago  | hide | discuss              \n",
      "      \n",
      "                \n",
      "      12.      Blue Apron lays off more workers (wsj.com)\n",
      "        104 points by crunchlibrarian 9 hours ago  | hide | 151 comments              \n",
      "      \n",
      "                \n",
      "      13.      Destruction of evidence charges filed for remotely wiping iPhone (dailygazette.com)\n",
      "        62 points by asimpletune 9 hours ago  | hide | 59 comments              \n",
      "      \n",
      "                \n",
      "      14.      C library system-call wrappers, or the lack thereof (lwn.net)\n",
      "        63 points by Tomte 9 hours ago  | hide | 41 comments              \n",
      "      \n",
      "                \n",
      "      15.      Infinite procedurally-generated city with the Wave Function Collapse algorithm (itch.io)\n",
      "        658 points by guessmyname 16 hours ago  | hide | 117 comments              \n",
      "      \n",
      "                \n",
      "      16.      Why We Need Difficult Books (theguardian.com)\n",
      "        102 points by lermontov 11 hours ago  | hide | 50 comments              \n",
      "      \n",
      "                \n",
      "      17.      Best and Worst Cities for Nursing Homes in the US (priceonomics.com)\n",
      "        36 points by vinnyglennon 8 hours ago  | hide | 5 comments              \n",
      "      \n",
      "                \n",
      "      18.      Abusing C macros to render the Mandelbrot Set at compile-time (gist.github.com)\n",
      "        109 points by DavidBuchanan 11 hours ago  | hide | 17 comments              \n",
      "      \n",
      "                \n",
      "      19.      Gods and Robots: Myths, Machines, and Ancient Dreams of Technology (spectator.us)\n",
      "        10 points by diodorus 4 hours ago  | hide | discuss              \n",
      "      \n",
      "                \n",
      "      20.      Winds of Change: The Case for New Digital Currency (imf.org)\n",
      "        30 points by T-A 7 hours ago  | hide | 6 comments              \n",
      "      \n",
      "                \n",
      "      21.      Ask HN: What's the largest amount of bad code you have ever seen work?\n",
      "        159 points by nobody271 12 hours ago  | hide | 256 comments              \n",
      "      \n",
      "                \n",
      "      22.      Show HN: Squally – A Game to Teach Low Level Computer Science\n",
      "        89 points by zcanann 11 hours ago  | hide | 19 comments              \n",
      "      \n",
      "                \n",
      "      23.      How Podcasts Became a Seductive and Sometimes Slippery Mode of Storytelling (newyorker.com)\n",
      "        38 points by tontonius 9 hours ago  | hide | 9 comments              \n",
      "      \n",
      "                \n",
      "      24.      How Multi-Beam Flash Lidar Works (ouster.io)\n",
      "        169 points by derek_frome 17 hours ago  | hide | 59 comments              \n",
      "      \n",
      "                \n",
      "      25.      Zippers for non-inductive types (danghica.blogspot.com)\n",
      "        21 points by matt_d 5 hours ago  | hide | discuss              \n",
      "      \n",
      "                \n",
      "      26.      Ask HN: I've been a programmer for 6 years, and I can't solve basic CS problems\n",
      "        245 points by cs0 12 hours ago  | hide | 195 comments              \n",
      "      \n",
      "                \n",
      "      27.      The rise of multivector DDoS attacks (cloudflare.com)\n",
      "        101 points by majke 14 hours ago  | hide | 13 comments              \n",
      "      \n",
      "                \n",
      "      28.      How to Keep Your Job as Your Company Grows (steveblank.com)\n",
      "        496 points by Raj7k 19 hours ago  | hide | 183 comments              \n",
      "      \n",
      "                \n",
      "      29.      Show HN: Group Video Chat. No Signups. No Downloads (itshello.co)\n",
      "        10 points by vasanthv 4 hours ago  | hide | 2 comments              \n",
      "      \n",
      "                \n",
      "      30.      A Brief History of Clip Art (solomon.io)\n",
      "        4 points by samsolomon 2 hours ago  | hide | 1 comment              \n",
      "      \n",
      "            More\n",
      "  \n",
      "\n",
      "Guidelines\n",
      "        | FAQ\n",
      "        | Support\n",
      "        | API\n",
      "        | Security\n",
      "        | Lists\n",
      "        | Bookmarklet\n",
      "        | Legal\n",
      "        | Apply to YC\n",
      "        | ContactSearch:\n",
      "          \n",
      "            \n",
      "      \n",
      "  \n",
      "\n"
     ]
    }
   ],
   "source": [
    "from bs4 import BeautifulSoup\n",
    "\n",
    "# Remove HTML tags using Beautiful Soup library\n",
    "soup = BeautifulSoup(r.text, \"html5lib\")\n",
    "print(soup.get_text())"
   ]
  },
  {
   "cell_type": "code",
   "execution_count": 13,
   "metadata": {
    "scrolled": true
   },
   "outputs": [
    {
     "data": {
      "text/plain": [
       "<tr class=\"athing\" id=\"18447589\">\n",
       "      <td align=\"right\" class=\"title\" valign=\"top\"><span class=\"rank\">1.</span></td>      <td class=\"votelinks\" valign=\"top\"><center><a href=\"vote?id=18447589&amp;how=up&amp;goto=news\" id=\"up_18447589\"><div class=\"votearrow\" title=\"upvote\"></div></a></center></td><td class=\"title\"><a class=\"storylink\" href=\"http://english.hf.cas.cn/new/news/rn/201811/t20181113_201186.html\">Chinese Tokamak reaches over 100M degrees</a><span class=\"sitebit comhead\"> (<a href=\"from?site=cas.cn\"><span class=\"sitestr\">cas.cn</span></a>)</span></td></tr>"
      ]
     },
     "execution_count": 13,
     "metadata": {},
     "output_type": "execute_result"
    }
   ],
   "source": [
    "# Find all articles\n",
    "summaries = soup.find_all(\"tr\", class_=\"athing\")\n",
    "summaries[0]"
   ]
  },
  {
   "cell_type": "code",
   "execution_count": 17,
   "metadata": {},
   "outputs": [
    {
     "data": {
      "text/plain": [
       "[<tr class=\"athing\" id=\"18447589\">\n",
       "       <td align=\"right\" class=\"title\" valign=\"top\"><span class=\"rank\">1.</span></td>      <td class=\"votelinks\" valign=\"top\"><center><a href=\"vote?id=18447589&amp;how=up&amp;goto=news\" id=\"up_18447589\"><div class=\"votearrow\" title=\"upvote\"></div></a></center></td><td class=\"title\"><a class=\"storylink\" href=\"http://english.hf.cas.cn/new/news/rn/201811/t20181113_201186.html\">Chinese Tokamak reaches over 100M degrees</a><span class=\"sitebit comhead\"> (<a href=\"from?site=cas.cn\"><span class=\"sitestr\">cas.cn</span></a>)</span></td></tr>,\n",
       " <tr class=\"athing\" id=\"18445652\">\n",
       "       <td align=\"right\" class=\"title\" valign=\"top\"><span class=\"rank\">2.</span></td>      <td class=\"votelinks\" valign=\"top\"><center><a href=\"vote?id=18445652&amp;how=up&amp;goto=news\" id=\"up_18445652\"><div class=\"votearrow\" title=\"upvote\"></div></a></center></td><td class=\"title\"><a class=\"storylink\" href=\"https://www.uofmhealth.org/news/sinus-hepa-0630\">Build a do-it-yourself home air purifier for about $25</a><span class=\"sitebit comhead\"> (<a href=\"from?site=uofmhealth.org\"><span class=\"sitestr\">uofmhealth.org</span></a>)</span></td></tr>,\n",
       " <tr class=\"athing\" id=\"18448518\">\n",
       "       <td align=\"right\" class=\"title\" valign=\"top\"><span class=\"rank\">3.</span></td>      <td class=\"votelinks\" valign=\"top\"><center><a href=\"vote?id=18448518&amp;how=up&amp;goto=news\" id=\"up_18448518\"><div class=\"votearrow\" title=\"upvote\"></div></a></center></td><td class=\"title\"><a class=\"storylink\" href=\"http://www.bbc.com/travel/gallery/20181113-the-last-velvet-merchant-of-venice\">The last velvet merchant of Venice</a><span class=\"sitebit comhead\"> (<a href=\"from?site=bbc.com\"><span class=\"sitestr\">bbc.com</span></a>)</span></td></tr>,\n",
       " <tr class=\"athing\" id=\"18446278\">\n",
       "       <td align=\"right\" class=\"title\" valign=\"top\"><span class=\"rank\">4.</span></td>      <td class=\"votelinks\" valign=\"top\"><center><a href=\"vote?id=18446278&amp;how=up&amp;goto=news\" id=\"up_18446278\"><div class=\"votearrow\" title=\"upvote\"></div></a></center></td><td class=\"title\"><a class=\"storylink\" href=\"https://hacks.mozilla.org/2018/11/firefox-sync-privacy/\">Private by Design: How We Built Firefox Sync</a><span class=\"sitebit comhead\"> (<a href=\"from?site=hacks.mozilla.org\"><span class=\"sitestr\">hacks.mozilla.org</span></a>)</span></td></tr>,\n",
       " <tr class=\"athing\" id=\"18447171\">\n",
       "       <td align=\"right\" class=\"title\" valign=\"top\"><span class=\"rank\">5.</span></td>      <td class=\"votelinks\" valign=\"top\"><center><a href=\"vote?id=18447171&amp;how=up&amp;goto=news\" id=\"up_18447171\"><div class=\"votearrow\" title=\"upvote\"></div></a></center></td><td class=\"title\"><a class=\"storylink\" href=\"https://www.bloomberg.com/news/articles/2018-11-14/snap-says-doj-and-sec-are-investigating-ipo-disclosures\">Snap Says DOJ and SEC Are Investigating IPO Disclosures</a><span class=\"sitebit comhead\"> (<a href=\"from?site=bloomberg.com\"><span class=\"sitestr\">bloomberg.com</span></a>)</span></td></tr>,\n",
       " <tr class=\"athing\" id=\"18445714\">\n",
       "       <td align=\"right\" class=\"title\" valign=\"top\"><span class=\"rank\">6.</span></td>      <td class=\"votelinks\" valign=\"top\"><center><a href=\"vote?id=18445714&amp;how=up&amp;goto=news\" id=\"up_18445714\"><div class=\"votearrow\" title=\"upvote\"></div></a></center></td><td class=\"title\"><a class=\"storylink\" href=\"https://www.marketwatch.com/story/waymo-ceo-says-driverless-car-service-coming-soon-2018-11-13\">Waymo CEO Says Alphabet Unit Plans to Launch Driverless Car Service</a><span class=\"sitebit comhead\"> (<a href=\"from?site=marketwatch.com\"><span class=\"sitestr\">marketwatch.com</span></a>)</span></td></tr>,\n",
       " <tr class=\"athing\" id=\"18440395\">\n",
       "       <td align=\"right\" class=\"title\" valign=\"top\"><span class=\"rank\">7.</span></td>      <td class=\"votelinks\" valign=\"top\"><center><a href=\"vote?id=18440395&amp;how=up&amp;goto=news\" id=\"up_18440395\"><div class=\"votearrow\" title=\"upvote\"></div></a></center></td><td class=\"title\"><a class=\"storylink\" href=\"https://papers.ssrn.com/sol3/papers.cfm?abstract_id=3248286\">Compelled Decryption and the Privilege Against Self-Incrimination</a><span class=\"sitebit comhead\"> (<a href=\"from?site=ssrn.com\"><span class=\"sitestr\">ssrn.com</span></a>)</span></td></tr>,\n",
       " <tr class=\"athing\" id=\"18448480\">\n",
       "       <td align=\"right\" class=\"title\" valign=\"top\"><span class=\"rank\">8.</span></td>      <td class=\"votelinks\" valign=\"top\"><center><a href=\"vote?id=18448480&amp;how=up&amp;goto=news\" id=\"up_18448480\"><div class=\"votearrow\" title=\"upvote\"></div></a></center></td><td class=\"title\"><a class=\"storylink\" href=\"http://nautil.us/issue/66/clockwork/we-need-an-fda-for-algorithms\">We Need an FDA for Algorithms</a><span class=\"sitebit comhead\"> (<a href=\"from?site=nautil.us\"><span class=\"sitestr\">nautil.us</span></a>)</span></td></tr>,\n",
       " <tr class=\"athing\" id=\"18439577\">\n",
       "       <td align=\"right\" class=\"title\" valign=\"top\"><span class=\"rank\">9.</span></td>      <td class=\"votelinks\" valign=\"top\"><center><a href=\"vote?id=18439577&amp;how=up&amp;goto=news\" id=\"up_18439577\"><div class=\"votearrow\" title=\"upvote\"></div></a></center></td><td class=\"title\"><a class=\"storylink\" href=\"https://www.1843magazine.com/content/ideas/ian-leslie/non-cogito-ergo-sum\">Non cogito, ergo sum</a><span class=\"sitebit comhead\"> (<a href=\"from?site=1843magazine.com\"><span class=\"sitestr\">1843magazine.com</span></a>)</span></td></tr>,\n",
       " <tr class=\"athing\" id=\"18445548\">\n",
       "       <td align=\"right\" class=\"title\" valign=\"top\"><span class=\"rank\">10.</span></td>      <td class=\"votelinks\" valign=\"top\"><center><a href=\"vote?id=18445548&amp;how=up&amp;goto=news\" id=\"up_18445548\"><div class=\"votearrow\" title=\"upvote\"></div></a></center></td><td class=\"title\"><a class=\"storylink\" href=\"https://www.bbc.com/news/world-europe-46193818\">Food taste 'not protected by copyright' rules EU court</a><span class=\"sitebit comhead\"> (<a href=\"from?site=bbc.com\"><span class=\"sitestr\">bbc.com</span></a>)</span></td></tr>,\n",
       " <tr class=\"athing\" id=\"18439617\">\n",
       "       <td align=\"right\" class=\"title\" valign=\"top\"><span class=\"rank\">11.</span></td>      <td class=\"votelinks\" valign=\"top\"><center><a href=\"vote?id=18439617&amp;how=up&amp;goto=news\" id=\"up_18439617\"><div class=\"votearrow\" title=\"upvote\"></div></a></center></td><td class=\"title\"><a class=\"storylink\" href=\"https://muratbuffalo.blogspot.com/2018/11/is-twitter-causally-consistent.html\" rel=\"nofollow\">Is Twitter causally-consistent?</a><span class=\"sitebit comhead\"> (<a href=\"from?site=muratbuffalo.blogspot.com\"><span class=\"sitestr\">muratbuffalo.blogspot.com</span></a>)</span></td></tr>,\n",
       " <tr class=\"athing\" id=\"18446448\">\n",
       "       <td align=\"right\" class=\"title\" valign=\"top\"><span class=\"rank\">12.</span></td>      <td class=\"votelinks\" valign=\"top\"><center><a href=\"vote?id=18446448&amp;how=up&amp;goto=news\" id=\"up_18446448\"><div class=\"votearrow\" title=\"upvote\"></div></a></center></td><td class=\"title\"><a class=\"storylink\" href=\"https://www.wsj.com/articles/blue-apron-lays-off-more-workers-1542148447\">Blue Apron lays off more workers</a><span class=\"sitebit comhead\"> (<a href=\"from?site=wsj.com\"><span class=\"sitestr\">wsj.com</span></a>)</span></td></tr>,\n",
       " <tr class=\"athing\" id=\"18446498\">\n",
       "       <td align=\"right\" class=\"title\" valign=\"top\"><span class=\"rank\">13.</span></td>      <td class=\"votelinks\" valign=\"top\"><center><a href=\"vote?id=18446498&amp;how=up&amp;goto=news\" id=\"up_18446498\"><div class=\"votearrow\" title=\"upvote\"></div></a></center></td><td class=\"title\"><a class=\"storylink\" href=\"https://dailygazette.com/article/2018/11/08/police-woman-remotely-wipes-phone-in-evidence-after-shooting\">Destruction of evidence charges filed for remotely wiping iPhone</a><span class=\"sitebit comhead\"> (<a href=\"from?site=dailygazette.com\"><span class=\"sitestr\">dailygazette.com</span></a>)</span></td></tr>,\n",
       " <tr class=\"athing\" id=\"18439100\">\n",
       "       <td align=\"right\" class=\"title\" valign=\"top\"><span class=\"rank\">14.</span></td>      <td class=\"votelinks\" valign=\"top\"><center><a href=\"vote?id=18439100&amp;how=up&amp;goto=news\" id=\"up_18439100\"><div class=\"votearrow\" title=\"upvote\"></div></a></center></td><td class=\"title\"><a class=\"storylink\" href=\"https://lwn.net/SubscriberLink/771441/96f587a2dec5ba1a/\">C library system-call wrappers, or the lack thereof</a><span class=\"sitebit comhead\"> (<a href=\"from?site=lwn.net\"><span class=\"sitestr\">lwn.net</span></a>)</span></td></tr>,\n",
       " <tr class=\"athing\" id=\"18443311\">\n",
       "       <td align=\"right\" class=\"title\" valign=\"top\"><span class=\"rank\">15.</span></td>      <td class=\"votelinks\" valign=\"top\"><center><a href=\"vote?id=18443311&amp;how=up&amp;goto=news\" id=\"up_18443311\"><div class=\"votearrow\" title=\"upvote\"></div></a></center></td><td class=\"title\"><a class=\"storylink\" href=\"https://marian42.itch.io/wfc\">Infinite procedurally-generated city with the Wave Function Collapse algorithm</a><span class=\"sitebit comhead\"> (<a href=\"from?site=itch.io\"><span class=\"sitestr\">itch.io</span></a>)</span></td></tr>,\n",
       " <tr class=\"athing\" id=\"18435642\">\n",
       "       <td align=\"right\" class=\"title\" valign=\"top\"><span class=\"rank\">16.</span></td>      <td class=\"votelinks\" valign=\"top\"><center><a href=\"vote?id=18435642&amp;how=up&amp;goto=news\" id=\"up_18435642\"><div class=\"votearrow\" title=\"upvote\"></div></a></center></td><td class=\"title\"><a class=\"storylink\" href=\"https://www.theguardian.com/books/2018/nov/10/anna-burns-milkman-difficult-novel\">Why We Need Difficult Books</a><span class=\"sitebit comhead\"> (<a href=\"from?site=theguardian.com\"><span class=\"sitestr\">theguardian.com</span></a>)</span></td></tr>,\n",
       " <tr class=\"athing\" id=\"18432301\">\n",
       "       <td align=\"right\" class=\"title\" valign=\"top\"><span class=\"rank\">17.</span></td>      <td class=\"votelinks\" valign=\"top\"><center><a href=\"vote?id=18432301&amp;how=up&amp;goto=news\" id=\"up_18432301\"><div class=\"votearrow\" title=\"upvote\"></div></a></center></td><td class=\"title\"><a class=\"storylink\" href=\"https://priceonomics.com/the-25-best-and-worst-cities-for-nursing-homes/\">Best and Worst Cities for Nursing Homes in the US</a><span class=\"sitebit comhead\"> (<a href=\"from?site=priceonomics.com\"><span class=\"sitestr\">priceonomics.com</span></a>)</span></td></tr>,\n",
       " <tr class=\"athing\" id=\"18445685\">\n",
       "       <td align=\"right\" class=\"title\" valign=\"top\"><span class=\"rank\">18.</span></td>      <td class=\"votelinks\" valign=\"top\"><center><a href=\"vote?id=18445685&amp;how=up&amp;goto=news\" id=\"up_18445685\"><div class=\"votearrow\" title=\"upvote\"></div></a></center></td><td class=\"title\"><a class=\"storylink\" href=\"https://gist.github.com/DavidBuchanan314/b9230fe7d335a1caf90483dbb00a5375\">Abusing C macros to render the Mandelbrot Set at compile-time</a><span class=\"sitebit comhead\"> (<a href=\"from?site=gist.github.com\"><span class=\"sitestr\">gist.github.com</span></a>)</span></td></tr>,\n",
       " <tr class=\"athing\" id=\"18447616\">\n",
       "       <td align=\"right\" class=\"title\" valign=\"top\"><span class=\"rank\">19.</span></td>      <td class=\"votelinks\" valign=\"top\"><center><a href=\"vote?id=18447616&amp;how=up&amp;goto=news\" id=\"up_18447616\"><div class=\"votearrow\" title=\"upvote\"></div></a></center></td><td class=\"title\"><a class=\"storylink\" href=\"https://spectator.us/robots-ancient-greeks-loved-alexa/\">Gods and Robots: Myths, Machines, and Ancient Dreams of Technology</a><span class=\"sitebit comhead\"> (<a href=\"from?site=spectator.us\"><span class=\"sitestr\">spectator.us</span></a>)</span></td></tr>,\n",
       " <tr class=\"athing\" id=\"18447142\">\n",
       "       <td align=\"right\" class=\"title\" valign=\"top\"><span class=\"rank\">20.</span></td>      <td class=\"votelinks\" valign=\"top\"><center><a href=\"vote?id=18447142&amp;how=up&amp;goto=news\" id=\"up_18447142\"><div class=\"votearrow\" title=\"upvote\"></div></a></center></td><td class=\"title\"><a class=\"storylink\" href=\"https://www.imf.org/en/News/Articles/2018/11/13/sp111418-winds-of-change-the-case-for-new-digital-currency\">Winds of Change: The Case for New Digital Currency</a><span class=\"sitebit comhead\"> (<a href=\"from?site=imf.org\"><span class=\"sitestr\">imf.org</span></a>)</span></td></tr>,\n",
       " <tr class=\"athing\" id=\"18442637\">\n",
       "       <td align=\"right\" class=\"title\" valign=\"top\"><span class=\"rank\">21.</span></td>      <td class=\"votelinks\" valign=\"top\"><center><a href=\"vote?id=18442637&amp;how=up&amp;goto=news\" id=\"up_18442637\"><div class=\"votearrow\" title=\"upvote\"></div></a></center></td><td class=\"title\"><a class=\"storylink\" href=\"item?id=18442637\">Ask HN: What's the largest amount of bad code you have ever seen work?</a></td></tr>,\n",
       " <tr class=\"athing\" id=\"18445748\">\n",
       "       <td align=\"right\" class=\"title\" valign=\"top\"><span class=\"rank\">22.</span></td>      <td class=\"votelinks\" valign=\"top\"><center><a href=\"vote?id=18445748&amp;how=up&amp;goto=news\" id=\"up_18445748\"><div class=\"votearrow\" title=\"upvote\"></div></a></center></td><td class=\"title\"><a class=\"storylink\" href=\"item?id=18445748\">Show HN: Squally – A Game to Teach Low Level Computer Science</a></td></tr>,\n",
       " <tr class=\"athing\" id=\"18439977\">\n",
       "       <td align=\"right\" class=\"title\" valign=\"top\"><span class=\"rank\">23.</span></td>      <td class=\"votelinks\" valign=\"top\"><center><a href=\"vote?id=18439977&amp;how=up&amp;goto=news\" id=\"up_18439977\"><div class=\"votearrow\" title=\"upvote\"></div></a></center></td><td class=\"title\"><a class=\"storylink\" href=\"https://www.newyorker.com/magazine/2018/11/19/how-podcasts-became-a-seductive-and-sometimes-slippery-mode-of-storytelling\">How Podcasts Became a Seductive and Sometimes Slippery Mode of Storytelling</a><span class=\"sitebit comhead\"> (<a href=\"from?site=newyorker.com\"><span class=\"sitestr\">newyorker.com</span></a>)</span></td></tr>,\n",
       " <tr class=\"athing\" id=\"18442775\">\n",
       "       <td align=\"right\" class=\"title\" valign=\"top\"><span class=\"rank\">24.</span></td>      <td class=\"votelinks\" valign=\"top\"><center><a href=\"vote?id=18442775&amp;how=up&amp;goto=news\" id=\"up_18442775\"><div class=\"votearrow\" title=\"upvote\"></div></a></center></td><td class=\"title\"><a class=\"storylink\" href=\"https://www.ouster.io/blog-posts/2018/11/8/how-multi-beam-flash-lidar-works\">How Multi-Beam Flash Lidar Works</a><span class=\"sitebit comhead\"> (<a href=\"from?site=ouster.io\"><span class=\"sitestr\">ouster.io</span></a>)</span></td></tr>,\n",
       " <tr class=\"athing\" id=\"18441767\">\n",
       "       <td align=\"right\" class=\"title\" valign=\"top\"><span class=\"rank\">25.</span></td>      <td class=\"votelinks\" valign=\"top\"><center><a href=\"vote?id=18441767&amp;how=up&amp;goto=news\" id=\"up_18441767\"><div class=\"votearrow\" title=\"upvote\"></div></a></center></td><td class=\"title\"><a class=\"storylink\" href=\"http://danghica.blogspot.com/2018/11/zippers-for-non-inductive-types.html\">Zippers for non-inductive types</a><span class=\"sitebit comhead\"> (<a href=\"from?site=danghica.blogspot.com\"><span class=\"sitestr\">danghica.blogspot.com</span></a>)</span></td></tr>,\n",
       " <tr class=\"athing\" id=\"18445609\">\n",
       "       <td align=\"right\" class=\"title\" valign=\"top\"><span class=\"rank\">26.</span></td>      <td class=\"votelinks\" valign=\"top\"><center><a href=\"vote?id=18445609&amp;how=up&amp;goto=news\" id=\"up_18445609\"><div class=\"votearrow\" title=\"upvote\"></div></a></center></td><td class=\"title\"><a class=\"storylink\" href=\"item?id=18445609\">Ask HN: I've been a programmer for 6 years, and I can't solve basic CS problems</a></td></tr>,\n",
       " <tr class=\"athing\" id=\"18434829\">\n",
       "       <td align=\"right\" class=\"title\" valign=\"top\"><span class=\"rank\">27.</span></td>      <td class=\"votelinks\" valign=\"top\"><center><a href=\"vote?id=18434829&amp;how=up&amp;goto=news\" id=\"up_18434829\"><div class=\"votearrow\" title=\"upvote\"></div></a></center></td><td class=\"title\"><a class=\"storylink\" href=\"https://blog.cloudflare.com/the-rise-of-multivector-amplifications/#\">The rise of multivector DDoS attacks</a><span class=\"sitebit comhead\"> (<a href=\"from?site=cloudflare.com\"><span class=\"sitestr\">cloudflare.com</span></a>)</span></td></tr>,\n",
       " <tr class=\"athing\" id=\"18441804\">\n",
       "       <td align=\"right\" class=\"title\" valign=\"top\"><span class=\"rank\">28.</span></td>      <td class=\"votelinks\" valign=\"top\"><center><a href=\"vote?id=18441804&amp;how=up&amp;goto=news\" id=\"up_18441804\"><div class=\"votearrow\" title=\"upvote\"></div></a></center></td><td class=\"title\"><a class=\"storylink\" href=\"https://steveblank.com/2018/11/13/its-not-change-you-fear-its-loss/\">How to Keep Your Job as Your Company Grows</a><span class=\"sitebit comhead\"> (<a href=\"from?site=steveblank.com\"><span class=\"sitestr\">steveblank.com</span></a>)</span></td></tr>,\n",
       " <tr class=\"athing\" id=\"18447957\">\n",
       "       <td align=\"right\" class=\"title\" valign=\"top\"><span class=\"rank\">29.</span></td>      <td class=\"votelinks\" valign=\"top\"><center><a href=\"vote?id=18447957&amp;how=up&amp;goto=news\" id=\"up_18447957\"><div class=\"votearrow\" title=\"upvote\"></div></a></center></td><td class=\"title\"><a class=\"storylink\" href=\"https://itshello.co\" rel=\"nofollow\">Show HN: Group Video Chat. No Signups. No Downloads</a><span class=\"sitebit comhead\"> (<a href=\"from?site=itshello.co\"><span class=\"sitestr\">itshello.co</span></a>)</span></td></tr>,\n",
       " <tr class=\"athing\" id=\"18440747\">\n",
       "       <td align=\"right\" class=\"title\" valign=\"top\"><span class=\"rank\">30.</span></td>      <td class=\"votelinks\" valign=\"top\"><center><a href=\"vote?id=18440747&amp;how=up&amp;goto=news\" id=\"up_18440747\"><div class=\"votearrow\" title=\"upvote\"></div></a></center></td><td class=\"title\"><a class=\"storylink\" href=\"https://solomon.io/brief-history-of-clip-art/\" rel=\"nofollow\">A Brief History of Clip Art</a><span class=\"sitebit comhead\"> (<a href=\"from?site=solomon.io\"><span class=\"sitestr\">solomon.io</span></a>)</span></td></tr>]"
      ]
     },
     "execution_count": 17,
     "metadata": {},
     "output_type": "execute_result"
    }
   ],
   "source": [
    "summaries"
   ]
  },
  {
   "cell_type": "code",
   "execution_count": 19,
   "metadata": {},
   "outputs": [
    {
     "data": {
      "text/plain": [
       "bs4.element.ResultSet"
      ]
     },
     "execution_count": 19,
     "metadata": {},
     "output_type": "execute_result"
    }
   ],
   "source": [
    "type(summaries)"
   ]
  },
  {
   "cell_type": "code",
   "execution_count": 18,
   "metadata": {},
   "outputs": [
    {
     "data": {
      "text/plain": [
       "<a class=\"storylink\" href=\"http://english.hf.cas.cn/new/news/rn/201811/t20181113_201186.html\">Chinese Tokamak reaches over 100M degrees</a>"
      ]
     },
     "execution_count": 18,
     "metadata": {},
     "output_type": "execute_result"
    }
   ],
   "source": [
    "summaries[0].find(\"a\", class_=\"storylink\")"
   ]
  },
  {
   "cell_type": "code",
   "execution_count": 20,
   "metadata": {},
   "outputs": [
    {
     "data": {
      "text/plain": [
       "'Chinese Tokamak reaches over 100M degrees'"
      ]
     },
     "execution_count": 20,
     "metadata": {},
     "output_type": "execute_result"
    }
   ],
   "source": [
    "# Extract title\n",
    "summaries[0].find(\"a\", class_=\"storylink\").get_text().strip()"
   ]
  },
  {
   "cell_type": "code",
   "execution_count": 21,
   "metadata": {},
   "outputs": [
    {
     "name": "stdout",
     "output_type": "stream",
     "text": [
      "30 Article summaries found. Sample:\n",
      "Chinese Tokamak reaches over 100M degrees\n"
     ]
    }
   ],
   "source": [
    "# Find all articles, extract titles\n",
    "articles = []\n",
    "summaries = soup.find_all(\"tr\", class_=\"athing\")\n",
    "for summary in summaries:\n",
    "    title = summary.find(\"a\", class_=\"storylink\").get_text().strip()\n",
    "    articles.append((title))\n",
    "\n",
    "print(len(articles), \"Article summaries found. Sample:\")\n",
    "print(articles[0])"
   ]
  },
  {
   "cell_type": "markdown",
   "metadata": {
    "collapsed": true
   },
   "source": [
    "## Normalization"
   ]
  },
  {
   "cell_type": "markdown",
   "metadata": {},
   "source": [
    "### Case Normalization"
   ]
  },
  {
   "cell_type": "code",
   "execution_count": 22,
   "metadata": {},
   "outputs": [
    {
     "name": "stdout",
     "output_type": "stream",
     "text": [
      "The first time you see The Second Renaissance it may look boring. Look at it at least twice and definitely watch part 2. It will change your view of the matrix. Are the human people the ones who started the war ? Is AI a bad thing ?\n"
     ]
    }
   ],
   "source": [
    "# Sample text\n",
    "text = \"The first time you see The Second Renaissance it may look boring. Look at it at least twice and definitely watch part 2. It will change your view of the matrix. Are the human people the ones who started the war ? Is AI a bad thing ?\"\n",
    "print(text)"
   ]
  },
  {
   "cell_type": "code",
   "execution_count": 23,
   "metadata": {},
   "outputs": [
    {
     "name": "stdout",
     "output_type": "stream",
     "text": [
      "the first time you see the second renaissance it may look boring. look at it at least twice and definitely watch part 2. it will change your view of the matrix. are the human people the ones who started the war ? is ai a bad thing ?\n"
     ]
    }
   ],
   "source": [
    "# Convert to lowercase\n",
    "text = text.lower() \n",
    "print(text)"
   ]
  },
  {
   "cell_type": "markdown",
   "metadata": {},
   "source": [
    "### Punctuation Removal"
   ]
  },
  {
   "cell_type": "code",
   "execution_count": 24,
   "metadata": {},
   "outputs": [
    {
     "name": "stdout",
     "output_type": "stream",
     "text": [
      "the first time you see the second renaissance it may look boring  look at it at least twice and definitely watch part 2  it will change your view of the matrix  are the human people the ones who started the war   is ai a bad thing  \n"
     ]
    }
   ],
   "source": [
    "import re\n",
    "\n",
    "# Remove punctuation characters\n",
    "text = re.sub(r\"[^a-zA-Z0-9]\", \" \", text) \n",
    "print(text)"
   ]
  },
  {
   "cell_type": "markdown",
   "metadata": {},
   "source": [
    "## Tokenization"
   ]
  },
  {
   "cell_type": "code",
   "execution_count": 25,
   "metadata": {},
   "outputs": [
    {
     "name": "stdout",
     "output_type": "stream",
     "text": [
      "['the', 'first', 'time', 'you', 'see', 'the', 'second', 'renaissance', 'it', 'may', 'look', 'boring', 'look', 'at', 'it', 'at', 'least', 'twice', 'and', 'definitely', 'watch', 'part', '2', 'it', 'will', 'change', 'your', 'view', 'of', 'the', 'matrix', 'are', 'the', 'human', 'people', 'the', 'ones', 'who', 'started', 'the', 'war', 'is', 'ai', 'a', 'bad', 'thing']\n"
     ]
    }
   ],
   "source": [
    "# Split text into tokens (words)\n",
    "words = text.split()\n",
    "print(words)"
   ]
  },
  {
   "cell_type": "markdown",
   "metadata": {},
   "source": [
    "### NLTK: Natural Language ToolKit"
   ]
  },
  {
   "cell_type": "code",
   "execution_count": 26,
   "metadata": {},
   "outputs": [],
   "source": [
    "import os\n",
    "import nltk\n",
    "nltk.data.path.append(os.path.join(os.getcwd(), \"nltk_data\"))"
   ]
  },
  {
   "cell_type": "code",
   "execution_count": 30,
   "metadata": {},
   "outputs": [
    {
     "data": {
      "text/plain": [
       "'/home/workspace/nltk_data'"
      ]
     },
     "execution_count": 30,
     "metadata": {},
     "output_type": "execute_result"
    }
   ],
   "source": [
    "(os.path.join(os.getcwd(), \"nltk_data\"))"
   ]
  },
  {
   "cell_type": "code",
   "execution_count": 31,
   "metadata": {},
   "outputs": [
    {
     "name": "stdout",
     "output_type": "stream",
     "text": [
      "Dr. Smith graduated from the University of Washington. He later started an analytics firm called Lux, which catered to enterprise customers.\n"
     ]
    }
   ],
   "source": [
    "# Another sample text\n",
    "text = \"Dr. Smith graduated from the University of Washington. He later started an analytics firm called Lux, which catered to enterprise customers.\"\n",
    "print(text)"
   ]
  },
  {
   "cell_type": "code",
   "execution_count": 32,
   "metadata": {},
   "outputs": [
    {
     "name": "stdout",
     "output_type": "stream",
     "text": [
      "['Dr.', 'Smith', 'graduated', 'from', 'the', 'University', 'of', 'Washington', '.', 'He', 'later', 'started', 'an', 'analytics', 'firm', 'called', 'Lux', ',', 'which', 'catered', 'to', 'enterprise', 'customers', '.']\n"
     ]
    }
   ],
   "source": [
    "from nltk.tokenize import word_tokenize\n",
    "\n",
    "# Split text into words using NLTK\n",
    "words = word_tokenize(text)\n",
    "print(words)"
   ]
  },
  {
   "cell_type": "code",
   "execution_count": 33,
   "metadata": {},
   "outputs": [
    {
     "name": "stdout",
     "output_type": "stream",
     "text": [
      "['Dr. Smith graduated from the University of Washington.', 'He later started an analytics firm called Lux, which catered to enterprise customers.']\n"
     ]
    }
   ],
   "source": [
    "from nltk.tokenize import sent_tokenize\n",
    "\n",
    "# Split text into sentences\n",
    "sentences = sent_tokenize(text)\n",
    "print(sentences)"
   ]
  },
  {
   "cell_type": "code",
   "execution_count": 34,
   "metadata": {},
   "outputs": [
    {
     "name": "stdout",
     "output_type": "stream",
     "text": [
      "['i', 'me', 'my', 'myself', 'we', 'our', 'ours', 'ourselves', 'you', \"you're\", \"you've\", \"you'll\", \"you'd\", 'your', 'yours', 'yourself', 'yourselves', 'he', 'him', 'his', 'himself', 'she', \"she's\", 'her', 'hers', 'herself', 'it', \"it's\", 'its', 'itself', 'they', 'them', 'their', 'theirs', 'themselves', 'what', 'which', 'who', 'whom', 'this', 'that', \"that'll\", 'these', 'those', 'am', 'is', 'are', 'was', 'were', 'be', 'been', 'being', 'have', 'has', 'had', 'having', 'do', 'does', 'did', 'doing', 'a', 'an', 'the', 'and', 'but', 'if', 'or', 'because', 'as', 'until', 'while', 'of', 'at', 'by', 'for', 'with', 'about', 'against', 'between', 'into', 'through', 'during', 'before', 'after', 'above', 'below', 'to', 'from', 'up', 'down', 'in', 'out', 'on', 'off', 'over', 'under', 'again', 'further', 'then', 'once', 'here', 'there', 'when', 'where', 'why', 'how', 'all', 'any', 'both', 'each', 'few', 'more', 'most', 'other', 'some', 'such', 'no', 'nor', 'not', 'only', 'own', 'same', 'so', 'than', 'too', 'very', 's', 't', 'can', 'will', 'just', 'don', \"don't\", 'should', \"should've\", 'now', 'd', 'll', 'm', 'o', 're', 've', 'y', 'ain', 'aren', \"aren't\", 'couldn', \"couldn't\", 'didn', \"didn't\", 'doesn', \"doesn't\", 'hadn', \"hadn't\", 'hasn', \"hasn't\", 'haven', \"haven't\", 'isn', \"isn't\", 'ma', 'mightn', \"mightn't\", 'mustn', \"mustn't\", 'needn', \"needn't\", 'shan', \"shan't\", 'shouldn', \"shouldn't\", 'wasn', \"wasn't\", 'weren', \"weren't\", 'won', \"won't\", 'wouldn', \"wouldn't\"]\n"
     ]
    }
   ],
   "source": [
    "# List stop words\n",
    "from nltk.corpus import stopwords\n",
    "print(stopwords.words(\"english\"))"
   ]
  },
  {
   "cell_type": "code",
   "execution_count": 35,
   "metadata": {},
   "outputs": [
    {
     "name": "stdout",
     "output_type": "stream",
     "text": [
      "['the', 'first', 'time', 'you', 'see', 'the', 'second', 'renaissance', 'it', 'may', 'look', 'boring', 'look', 'at', 'it', 'at', 'least', 'twice', 'and', 'definitely', 'watch', 'part', '2', 'it', 'will', 'change', 'your', 'view', 'of', 'the', 'matrix', 'are', 'the', 'human', 'people', 'the', 'ones', 'who', 'started', 'the', 'war', 'is', 'ai', 'a', 'bad', 'thing']\n"
     ]
    }
   ],
   "source": [
    "# Reset text\n",
    "text = \"The first time you see The Second Renaissance it may look boring. Look at it at least twice and definitely watch part 2. It will change your view of the matrix. Are the human people the ones who started the war ? Is AI a bad thing ?\"\n",
    "\n",
    "# Normalize it\n",
    "text = re.sub(r\"[^a-zA-Z0-9]\", \" \", text.lower())\n",
    "\n",
    "# Tokenize it\n",
    "words = text.split()\n",
    "print(words)"
   ]
  },
  {
   "cell_type": "code",
   "execution_count": 36,
   "metadata": {},
   "outputs": [
    {
     "name": "stdout",
     "output_type": "stream",
     "text": [
      "['first', 'time', 'see', 'second', 'renaissance', 'may', 'look', 'boring', 'look', 'least', 'twice', 'definitely', 'watch', 'part', '2', 'change', 'view', 'matrix', 'human', 'people', 'ones', 'started', 'war', 'ai', 'bad', 'thing']\n"
     ]
    }
   ],
   "source": [
    "# Remove stop words\n",
    "words = [w for w in words if w not in stopwords.words(\"english\")]\n",
    "print(words)"
   ]
  },
  {
   "cell_type": "markdown",
   "metadata": {},
   "source": [
    "### Sentence Parsing"
   ]
  },
  {
   "cell_type": "code",
   "execution_count": 37,
   "metadata": {},
   "outputs": [
    {
     "name": "stdout",
     "output_type": "stream",
     "text": [
      "(S\n",
      "  (NP I)\n",
      "  (VP\n",
      "    (VP (V shot) (NP (Det an) (N elephant)))\n",
      "    (PP (P in) (NP (Det my) (N pajamas)))))\n",
      "(S\n",
      "  (NP I)\n",
      "  (VP\n",
      "    (V shot)\n",
      "    (NP (Det an) (N elephant) (PP (P in) (NP (Det my) (N pajamas))))))\n"
     ]
    }
   ],
   "source": [
    "import nltk\n",
    "\n",
    "# Define a custom grammar\n",
    "my_grammar = nltk.CFG.fromstring(\"\"\"\n",
    "S -> NP VP\n",
    "PP -> P NP\n",
    "NP -> Det N | Det N PP | 'I'\n",
    "VP -> V NP | VP PP\n",
    "Det -> 'an' | 'my'\n",
    "N -> 'elephant' | 'pajamas'\n",
    "V -> 'shot'\n",
    "P -> 'in'\n",
    "\"\"\")\n",
    "parser = nltk.ChartParser(my_grammar)\n",
    "\n",
    "# Parse a sentence\n",
    "sentence = word_tokenize(\"I shot an elephant in my pajamas\")\n",
    "for tree in parser.parse(sentence):\n",
    "    print(tree)"
   ]
  },
  {
   "cell_type": "markdown",
   "metadata": {},
   "source": [
    "## Stemming & Lemmatization\n",
    "\n",
    "### Stemming"
   ]
  },
  {
   "cell_type": "code",
   "execution_count": 38,
   "metadata": {},
   "outputs": [
    {
     "name": "stdout",
     "output_type": "stream",
     "text": [
      "['first', 'time', 'see', 'second', 'renaiss', 'may', 'look', 'bore', 'look', 'least', 'twice', 'definit', 'watch', 'part', '2', 'chang', 'view', 'matrix', 'human', 'peopl', 'one', 'start', 'war', 'ai', 'bad', 'thing']\n"
     ]
    }
   ],
   "source": [
    "from nltk.stem.porter import PorterStemmer\n",
    "\n",
    "# Reduce words to their stems\n",
    "stemmed = [PorterStemmer().stem(w) for w in words]\n",
    "print(stemmed)"
   ]
  },
  {
   "cell_type": "markdown",
   "metadata": {},
   "source": [
    "### Lemmatization"
   ]
  },
  {
   "cell_type": "code",
   "execution_count": 39,
   "metadata": {},
   "outputs": [
    {
     "name": "stdout",
     "output_type": "stream",
     "text": [
      "['first', 'time', 'see', 'second', 'renaissance', 'may', 'look', 'boring', 'look', 'least', 'twice', 'definitely', 'watch', 'part', '2', 'change', 'view', 'matrix', 'human', 'people', 'one', 'started', 'war', 'ai', 'bad', 'thing']\n"
     ]
    }
   ],
   "source": [
    "from nltk.stem.wordnet import WordNetLemmatizer\n",
    "\n",
    "# Reduce words to their root form\n",
    "lemmed = [WordNetLemmatizer().lemmatize(w) for w in words]\n",
    "print(lemmed)"
   ]
  },
  {
   "cell_type": "code",
   "execution_count": 40,
   "metadata": {},
   "outputs": [
    {
     "name": "stdout",
     "output_type": "stream",
     "text": [
      "['first', 'time', 'see', 'second', 'renaissance', 'may', 'look', 'bore', 'look', 'least', 'twice', 'definitely', 'watch', 'part', '2', 'change', 'view', 'matrix', 'human', 'people', 'one', 'start', 'war', 'ai', 'bad', 'thing']\n"
     ]
    }
   ],
   "source": [
    "# Lemmatize verbs by specifying pos\n",
    "lemmed = [WordNetLemmatizer().lemmatize(w, pos='v') for w in lemmed]\n",
    "print(lemmed)"
   ]
  },
  {
   "cell_type": "code",
   "execution_count": null,
   "metadata": {},
   "outputs": [],
   "source": []
  }
 ],
 "metadata": {
  "kernelspec": {
   "display_name": "Python 3",
   "language": "python",
   "name": "python3"
  },
  "language_info": {
   "codemirror_mode": {
    "name": "ipython",
    "version": 3
   },
   "file_extension": ".py",
   "mimetype": "text/x-python",
   "name": "python",
   "nbconvert_exporter": "python",
   "pygments_lexer": "ipython3",
   "version": "3.6.3"
  }
 },
 "nbformat": 4,
 "nbformat_minor": 2
}
