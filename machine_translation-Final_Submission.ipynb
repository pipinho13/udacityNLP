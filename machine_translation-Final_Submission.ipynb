{
 "cells": [
  {
   "cell_type": "markdown",
   "metadata": {
    "collapsed": true
   },
   "source": [
    "# Artificial Intelligence Nanodegree\n",
    "## Machine Translation Project\n",
    "In this notebook, sections that end with **'(IMPLEMENTATION)'** in the header indicate that the following blocks of code will require additional functionality which you must provide. Please be sure to read the instructions carefully!\n",
    "\n",
    "## Introduction\n",
    "In this notebook, you will build a deep neural network that functions as part of an end-to-end machine translation pipeline. Your completed pipeline will accept English text as input and return the French translation.\n",
    "\n",
    "- **Preprocess** - You'll convert text to sequence of integers.\n",
    "- **Models** Create models which accepts a sequence of integers as input and returns a probability distribution over possible translations. After learning about the basic types of neural networks that are often used for machine translation, you will engage in your own investigations, to design your own model!\n",
    "- **Prediction** Run the model on English text."
   ]
  },
  {
   "cell_type": "code",
   "execution_count": 1,
   "metadata": {},
   "outputs": [],
   "source": [
    "%load_ext autoreload\n",
    "%aimport helper, tests\n",
    "%autoreload 1"
   ]
  },
  {
   "cell_type": "code",
   "execution_count": 2,
   "metadata": {},
   "outputs": [
    {
     "name": "stderr",
     "output_type": "stream",
     "text": [
      "Using TensorFlow backend.\n"
     ]
    }
   ],
   "source": [
    "import collections\n",
    "\n",
    "import helper\n",
    "import numpy as np\n",
    "import project_tests as tests\n",
    "\n",
    "from keras.preprocessing.text import Tokenizer\n",
    "from keras.preprocessing.sequence import pad_sequences\n",
    "from keras.models import Model\n",
    "from keras.layers import GRU, Input, Dense, TimeDistributed, Activation, RepeatVector, Bidirectional\n",
    "from keras.layers.embeddings import Embedding\n",
    "from keras.optimizers import Adam\n",
    "from keras.losses import sparse_categorical_crossentropy"
   ]
  },
  {
   "cell_type": "markdown",
   "metadata": {},
   "source": [
    "### Verify access to the GPU\n",
    "The following test applies only if you expect to be using a GPU, e.g., while running in a Udacity Workspace or using an AWS instance with GPU support. Run the next cell, and verify that the device_type is \"GPU\".\n",
    "- If the device is not GPU & you are running from a Udacity Workspace, then save your workspace with the icon at the top, then click \"enable\" at the bottom of the workspace.\n",
    "- If the device is not GPU & you are running from an AWS instance, then refer to the cloud computing instructions in the classroom to verify your setup steps."
   ]
  },
  {
   "cell_type": "code",
   "execution_count": 3,
   "metadata": {},
   "outputs": [
    {
     "name": "stdout",
     "output_type": "stream",
     "text": [
      "[name: \"/cpu:0\"\n",
      "device_type: \"CPU\"\n",
      "memory_limit: 268435456\n",
      "locality {\n",
      "}\n",
      "incarnation: 5912173518612326628\n",
      ", name: \"/gpu:0\"\n",
      "device_type: \"GPU\"\n",
      "memory_limit: 357302272\n",
      "locality {\n",
      "  bus_id: 1\n",
      "}\n",
      "incarnation: 10969140442590444911\n",
      "physical_device_desc: \"device: 0, name: Tesla K80, pci bus id: 0000:00:04.0\"\n",
      "]\n"
     ]
    }
   ],
   "source": [
    "from tensorflow.python.client import device_lib\n",
    "print(device_lib.list_local_devices())"
   ]
  },
  {
   "cell_type": "markdown",
   "metadata": {},
   "source": [
    "## Dataset\n",
    "We begin by investigating the dataset that will be used to train and evaluate your pipeline.  The most common datasets used for machine translation are from [WMT](http://www.statmt.org/).  However, that will take a long time to train a neural network on.  We'll be using a dataset we created for this project that contains a small vocabulary.  You'll be able to train your model in a reasonable time with this dataset.\n",
    "### Load Data\n",
    "The data is located in `data/small_vocab_en` and `data/small_vocab_fr`. The `small_vocab_en` file contains English sentences with their French translations in the `small_vocab_fr` file. Load the English and French data from these files from running the cell below."
   ]
  },
  {
   "cell_type": "code",
   "execution_count": 4,
   "metadata": {},
   "outputs": [
    {
     "name": "stdout",
     "output_type": "stream",
     "text": [
      "Dataset Loaded\n"
     ]
    }
   ],
   "source": [
    "# Load English data\n",
    "english_sentences = helper.load_data('data/small_vocab_en')\n",
    "# Load French data\n",
    "french_sentences = helper.load_data('data/small_vocab_fr')\n",
    "\n",
    "print('Dataset Loaded')"
   ]
  },
  {
   "cell_type": "code",
   "execution_count": 5,
   "metadata": {},
   "outputs": [
    {
     "data": {
      "text/plain": [
       "list"
      ]
     },
     "execution_count": 5,
     "metadata": {},
     "output_type": "execute_result"
    }
   ],
   "source": [
    "type(english_sentences)"
   ]
  },
  {
   "cell_type": "code",
   "execution_count": 6,
   "metadata": {},
   "outputs": [
    {
     "data": {
      "text/plain": [
       "'new jersey is sometimes quiet during autumn , and it is snowy in april .'"
      ]
     },
     "execution_count": 6,
     "metadata": {},
     "output_type": "execute_result"
    }
   ],
   "source": [
    "english_sentences[0]"
   ]
  },
  {
   "cell_type": "code",
   "execution_count": 7,
   "metadata": {},
   "outputs": [
    {
     "data": {
      "text/plain": [
       "\"new jersey est parfois calme pendant l' automne , et il est neigeux en avril .\""
      ]
     },
     "execution_count": 7,
     "metadata": {},
     "output_type": "execute_result"
    }
   ],
   "source": [
    "french_sentences[0]"
   ]
  },
  {
   "cell_type": "markdown",
   "metadata": {},
   "source": [
    "### Files\n",
    "Each line in `small_vocab_en` contains an English sentence with the respective translation in each line of `small_vocab_fr`.  View the first two lines from each file."
   ]
  },
  {
   "cell_type": "code",
   "execution_count": 9,
   "metadata": {},
   "outputs": [
    {
     "name": "stdout",
     "output_type": "stream",
     "text": [
      "small_vocab_en Line 1:  new jersey is sometimes quiet during autumn , and it is snowy in april .\n",
      "small_vocab_fr Line 1:  new jersey est parfois calme pendant l' automne , et il est neigeux en avril .\n",
      "small_vocab_en Line 2:  the united states is usually chilly during july , and it is usually freezing in november .\n",
      "small_vocab_fr Line 2:  les états-unis est généralement froid en juillet , et il gèle habituellement en novembre .\n"
     ]
    }
   ],
   "source": [
    "for sample_i in range(2):\n",
    "    print('small_vocab_en Line {}:  {}'.format(sample_i + 1, english_sentences[sample_i]))\n",
    "    print('small_vocab_fr Line {}:  {}'.format(sample_i + 1, french_sentences[sample_i]))"
   ]
  },
  {
   "cell_type": "markdown",
   "metadata": {},
   "source": [
    "From looking at the sentences, you can see they have been preprocessed already.  The puncuations have been delimited using spaces. All the text have been converted to lowercase.  This should save you some time, but the text requires more preprocessing.\n",
    "### Vocabulary\n",
    "The complexity of the problem is determined by the complexity of the vocabulary.  A more complex vocabulary is a more complex problem.  Let's look at the complexity of the dataset we'll be working with."
   ]
  },
  {
   "cell_type": "code",
   "execution_count": 10,
   "metadata": {},
   "outputs": [
    {
     "name": "stdout",
     "output_type": "stream",
     "text": [
      "1823250 English words.\n",
      "227 unique English words.\n",
      "10 Most common words in the English dataset:\n",
      "\"is\" \",\" \".\" \"in\" \"it\" \"during\" \"the\" \"but\" \"and\" \"sometimes\"\n",
      "\n",
      "1961295 French words.\n",
      "355 unique French words.\n",
      "10 Most common words in the French dataset:\n",
      "\"est\" \".\" \",\" \"en\" \"il\" \"les\" \"mais\" \"et\" \"la\" \"parfois\"\n"
     ]
    }
   ],
   "source": [
    "english_words_counter = collections.Counter([word for sentence in english_sentences for word in sentence.split()])\n",
    "french_words_counter = collections.Counter([word for sentence in french_sentences for word in sentence.split()])\n",
    "\n",
    "print('{} English words.'.format(len([word for sentence in english_sentences for word in sentence.split()])))\n",
    "print('{} unique English words.'.format(len(english_words_counter)))\n",
    "print('10 Most common words in the English dataset:')\n",
    "print('\"' + '\" \"'.join(list(zip(*english_words_counter.most_common(10)))[0]) + '\"')\n",
    "print()\n",
    "print('{} French words.'.format(len([word for sentence in french_sentences for word in sentence.split()])))\n",
    "print('{} unique French words.'.format(len(french_words_counter)))\n",
    "print('10 Most common words in the French dataset:')\n",
    "print('\"' + '\" \"'.join(list(zip(*french_words_counter.most_common(10)))[0]) + '\"')"
   ]
  },
  {
   "cell_type": "markdown",
   "metadata": {},
   "source": [
    "For comparison, _Alice's Adventures in Wonderland_ contains 2,766 unique words of a total of 15,500 words.\n",
    "## Preprocess\n",
    "For this project, you won't use text data as input to your model. Instead, you'll convert the text into sequences of integers using the following preprocess methods:\n",
    "1. Tokenize the words into ids\n",
    "2. Add padding to make all the sequences the same length.\n",
    "\n",
    "Time to start preprocessing the data...\n",
    "### Tokenize (IMPLEMENTATION)\n",
    "For a neural network to predict on text data, it first has to be turned into data it can understand. Text data like \"dog\" is a sequence of ASCII character encodings.  Since a neural network is a series of multiplication and addition operations, the input data needs to be number(s).\n",
    "\n",
    "We can turn each character into a number or each word into a number.  These are called character and word ids, respectively.  Character ids are used for character level models that generate text predictions for each character.  A word level model uses word ids that generate text predictions for each word.  Word level models tend to learn better, since they are lower in complexity, so we'll use those.\n",
    "\n",
    "Turn each sentence into a sequence of words ids using Keras's [`Tokenizer`](https://keras.io/preprocessing/text/#tokenizer) function. Use this function to tokenize `english_sentences` and `french_sentences` in the cell below.\n",
    "\n",
    "Running the cell will run `tokenize` on sample data and show output for debugging."
   ]
  },
  {
   "cell_type": "code",
   "execution_count": 11,
   "metadata": {},
   "outputs": [
    {
     "name": "stdout",
     "output_type": "stream",
     "text": [
      "{'the': 1, 'quick': 2, 'a': 3, 'brown': 4, 'fox': 5, 'jumps': 6, 'over': 7, 'lazy': 8, 'dog': 9, 'by': 10, 'jove': 11, 'my': 12, 'study': 13, 'of': 14, 'lexicography': 15, 'won': 16, 'prize': 17, 'this': 18, 'is': 19, 'short': 20, 'sentence': 21}\n",
      "\n",
      "Sequence 1 in x\n",
      "  Input:  The quick brown fox jumps over the lazy dog .\n",
      "  Output: [1, 2, 4, 5, 6, 7, 1, 8, 9]\n",
      "Sequence 2 in x\n",
      "  Input:  By Jove , my quick study of lexicography won a prize .\n",
      "  Output: [10, 11, 12, 2, 13, 14, 15, 16, 3, 17]\n",
      "Sequence 3 in x\n",
      "  Input:  This is a short sentence .\n",
      "  Output: [18, 19, 3, 20, 21]\n"
     ]
    }
   ],
   "source": [
    "def tokenize(x):\n",
    "    \"\"\"\n",
    "    Tokenize x\n",
    "    :param x: List of sentences/strings to be tokenized\n",
    "    :return: Tuple of (tokenized x data, tokenizer used to tokenize x)\n",
    "    \"\"\"\n",
    "    # TODO: Implement\n",
    "    x_tk = Tokenizer()\n",
    "    x_tk.fit_on_texts(x)\n",
    "\n",
    "    return x_tk.texts_to_sequences(x), x_tk\n",
    "tests.test_tokenize(tokenize)\n",
    "\n",
    "# Tokenize Example output\n",
    "text_sentences = [\n",
    "    'The quick brown fox jumps over the lazy dog .',\n",
    "    'By Jove , my quick study of lexicography won a prize .',\n",
    "    'This is a short sentence .']\n",
    "text_tokenized, text_tokenizer = tokenize(text_sentences)\n",
    "print(text_tokenizer.word_index)\n",
    "print()\n",
    "for sample_i, (sent, token_sent) in enumerate(zip(text_sentences, text_tokenized)):\n",
    "    print('Sequence {} in x'.format(sample_i + 1))\n",
    "    print('  Input:  {}'.format(sent))\n",
    "    print('  Output: {}'.format(token_sent))"
   ]
  },
  {
   "cell_type": "code",
   "execution_count": 12,
   "metadata": {},
   "outputs": [],
   "source": [
    "text_tokenized, text_tokenizer = tokenize(text_sentences)"
   ]
  },
  {
   "cell_type": "code",
   "execution_count": 13,
   "metadata": {},
   "outputs": [
    {
     "data": {
      "text/plain": [
       "[[1, 2, 4, 5, 6, 7, 1, 8, 9],\n",
       " [10, 11, 12, 2, 13, 14, 15, 16, 3, 17],\n",
       " [18, 19, 3, 20, 21]]"
      ]
     },
     "execution_count": 13,
     "metadata": {},
     "output_type": "execute_result"
    }
   ],
   "source": [
    "text_tokenized"
   ]
  },
  {
   "cell_type": "code",
   "execution_count": 14,
   "metadata": {},
   "outputs": [
    {
     "data": {
      "text/plain": [
       "OrderedDict([('the', 2),\n",
       "             ('quick', 2),\n",
       "             ('brown', 1),\n",
       "             ('fox', 1),\n",
       "             ('jumps', 1),\n",
       "             ('over', 1),\n",
       "             ('lazy', 1),\n",
       "             ('dog', 1),\n",
       "             ('by', 1),\n",
       "             ('jove', 1),\n",
       "             ('my', 1),\n",
       "             ('study', 1),\n",
       "             ('of', 1),\n",
       "             ('lexicography', 1),\n",
       "             ('won', 1),\n",
       "             ('a', 2),\n",
       "             ('prize', 1),\n",
       "             ('this', 1),\n",
       "             ('is', 1),\n",
       "             ('short', 1),\n",
       "             ('sentence', 1)])"
      ]
     },
     "execution_count": 14,
     "metadata": {},
     "output_type": "execute_result"
    }
   ],
   "source": [
    "text_tokenizer.word_counts"
   ]
  },
  {
   "cell_type": "code",
   "execution_count": 15,
   "metadata": {},
   "outputs": [
    {
     "data": {
      "text/plain": [
       "{'the': 1,\n",
       " 'quick': 2,\n",
       " 'a': 3,\n",
       " 'brown': 4,\n",
       " 'fox': 5,\n",
       " 'jumps': 6,\n",
       " 'over': 7,\n",
       " 'lazy': 8,\n",
       " 'dog': 9,\n",
       " 'by': 10,\n",
       " 'jove': 11,\n",
       " 'my': 12,\n",
       " 'study': 13,\n",
       " 'of': 14,\n",
       " 'lexicography': 15,\n",
       " 'won': 16,\n",
       " 'prize': 17,\n",
       " 'this': 18,\n",
       " 'is': 19,\n",
       " 'short': 20,\n",
       " 'sentence': 21}"
      ]
     },
     "execution_count": 15,
     "metadata": {},
     "output_type": "execute_result"
    }
   ],
   "source": [
    "text_tokenizer.word_index"
   ]
  },
  {
   "cell_type": "markdown",
   "metadata": {},
   "source": [
    "### Padding (IMPLEMENTATION)\n",
    "When batching the sequence of word ids together, each sequence needs to be the same length.  Since sentences are dynamic in length, we can add padding to the end of the sequences to make them the same length.\n",
    "\n",
    "Make sure all the English sequences have the same length and all the French sequences have the same length by adding padding to the **end** of each sequence using Keras's [`pad_sequences`](https://keras.io/preprocessing/sequence/#pad_sequences) function."
   ]
  },
  {
   "cell_type": "code",
   "execution_count": 16,
   "metadata": {},
   "outputs": [
    {
     "data": {
      "text/plain": [
       "102"
      ]
     },
     "execution_count": 16,
     "metadata": {},
     "output_type": "execute_result"
    }
   ],
   "source": [
    "max([len(sentence) for sentence in english_sentences])"
   ]
  },
  {
   "cell_type": "code",
   "execution_count": 17,
   "metadata": {},
   "outputs": [
    {
     "name": "stdout",
     "output_type": "stream",
     "text": [
      "Sequence 1 in x\n",
      "  Input:  [1 2 4 5 6 7 1 8 9]\n",
      "  Output: [1 2 4 5 6 7 1 8 9 0]\n",
      "Sequence 2 in x\n",
      "  Input:  [10 11 12  2 13 14 15 16  3 17]\n",
      "  Output: [10 11 12  2 13 14 15 16  3 17]\n",
      "Sequence 3 in x\n",
      "  Input:  [18 19  3 20 21]\n",
      "  Output: [18 19  3 20 21  0  0  0  0  0]\n"
     ]
    }
   ],
   "source": [
    "def pad(x, length=None):\n",
    "    \"\"\"\n",
    "    Pad x\n",
    "    :param x: List of sequences.\n",
    "    :param length: Length to pad the sequence to.  If None, use length of longest sequence in x.\n",
    "    :return: Padded numpy array of sequences\n",
    "    \"\"\"\n",
    "    # TODO: Implement\n",
    "    if length is None:\n",
    "        length = max([len(sentence) for sentence in x])\n",
    "    return pad_sequences(x, maxlen=length, padding='post', truncating='post')\n",
    "tests.test_pad(pad)\n",
    "\n",
    "# Pad Tokenized output\n",
    "test_pad = pad(text_tokenized)\n",
    "for sample_i, (token_sent, pad_sent) in enumerate(zip(text_tokenized, test_pad)):\n",
    "    print('Sequence {} in x'.format(sample_i + 1))\n",
    "    print('  Input:  {}'.format(np.array(token_sent)))\n",
    "    print('  Output: {}'.format(pad_sent))"
   ]
  },
  {
   "cell_type": "markdown",
   "metadata": {},
   "source": [
    "### Preprocess Pipeline\n",
    "Your focus for this project is to build neural network architecture, so we won't ask you to create a preprocess pipeline.  Instead, we've provided you with the implementation of the `preprocess` function."
   ]
  },
  {
   "cell_type": "code",
   "execution_count": 18,
   "metadata": {},
   "outputs": [],
   "source": [
    "a, b = tokenize(english_sentences[0:3])"
   ]
  },
  {
   "cell_type": "code",
   "execution_count": 19,
   "metadata": {},
   "outputs": [
    {
     "data": {
      "text/plain": [
       "[[8, 9, 1, 10, 7, 3, 11, 4, 5, 1, 12, 6, 13],\n",
       " [14, 15, 16, 1, 2, 17, 3, 18, 4, 5, 1, 2, 19, 6, 20],\n",
       " [21, 1, 2, 7, 3, 22, 4, 5, 1, 2, 23, 6, 24]]"
      ]
     },
     "execution_count": 19,
     "metadata": {},
     "output_type": "execute_result"
    }
   ],
   "source": [
    "a"
   ]
  },
  {
   "cell_type": "code",
   "execution_count": 20,
   "metadata": {},
   "outputs": [],
   "source": [
    "a = pad(a)"
   ]
  },
  {
   "cell_type": "code",
   "execution_count": 21,
   "metadata": {},
   "outputs": [
    {
     "data": {
      "text/plain": [
       "array([[ 8,  9,  1, 10,  7,  3, 11,  4,  5,  1, 12,  6, 13,  0,  0],\n",
       "       [14, 15, 16,  1,  2, 17,  3, 18,  4,  5,  1,  2, 19,  6, 20],\n",
       "       [21,  1,  2,  7,  3, 22,  4,  5,  1,  2, 23,  6, 24,  0,  0]], dtype=int32)"
      ]
     },
     "execution_count": 21,
     "metadata": {},
     "output_type": "execute_result"
    }
   ],
   "source": [
    "a"
   ]
  },
  {
   "cell_type": "code",
   "execution_count": 22,
   "metadata": {},
   "outputs": [],
   "source": [
    "#a.reshape(a.shape[0],a.shape[1],1)"
   ]
  },
  {
   "cell_type": "code",
   "execution_count": 23,
   "metadata": {},
   "outputs": [
    {
     "data": {
      "text/plain": [
       "array([[[ 8],\n",
       "        [ 9],\n",
       "        [ 1],\n",
       "        [10],\n",
       "        [ 7],\n",
       "        [ 3],\n",
       "        [11],\n",
       "        [ 4],\n",
       "        [ 5],\n",
       "        [ 1],\n",
       "        [12],\n",
       "        [ 6],\n",
       "        [13],\n",
       "        [ 0],\n",
       "        [ 0]],\n",
       "\n",
       "       [[14],\n",
       "        [15],\n",
       "        [16],\n",
       "        [ 1],\n",
       "        [ 2],\n",
       "        [17],\n",
       "        [ 3],\n",
       "        [18],\n",
       "        [ 4],\n",
       "        [ 5],\n",
       "        [ 1],\n",
       "        [ 2],\n",
       "        [19],\n",
       "        [ 6],\n",
       "        [20]],\n",
       "\n",
       "       [[21],\n",
       "        [ 1],\n",
       "        [ 2],\n",
       "        [ 7],\n",
       "        [ 3],\n",
       "        [22],\n",
       "        [ 4],\n",
       "        [ 5],\n",
       "        [ 1],\n",
       "        [ 2],\n",
       "        [23],\n",
       "        [ 6],\n",
       "        [24],\n",
       "        [ 0],\n",
       "        [ 0]]], dtype=int32)"
      ]
     },
     "execution_count": 23,
     "metadata": {},
     "output_type": "execute_result"
    }
   ],
   "source": [
    "a.reshape(*a.shape, 1)"
   ]
  },
  {
   "cell_type": "code",
   "execution_count": 24,
   "metadata": {},
   "outputs": [
    {
     "data": {
      "text/plain": [
       "(3, 15, 1)"
      ]
     },
     "execution_count": 24,
     "metadata": {},
     "output_type": "execute_result"
    }
   ],
   "source": [
    "(a.reshape(*a.shape, 1)).shape"
   ]
  },
  {
   "cell_type": "code",
   "execution_count": 25,
   "metadata": {},
   "outputs": [
    {
     "name": "stdout",
     "output_type": "stream",
     "text": [
      "Data Preprocessed\n",
      "Max English sentence length: 15\n",
      "Max French sentence length: 21\n",
      "English vocabulary size: 199\n",
      "French vocabulary size: 344\n"
     ]
    }
   ],
   "source": [
    "def preprocess(x, y):\n",
    "    \"\"\"\n",
    "    Preprocess x and y\n",
    "    :param x: Feature List of sentences\n",
    "    :param y: Label List of sentences\n",
    "    :return: Tuple of (Preprocessed x, Preprocessed y, x tokenizer, y tokenizer)\n",
    "    \"\"\"\n",
    "    preprocess_x, x_tk = tokenize(x)\n",
    "    preprocess_y, y_tk = tokenize(y)\n",
    "\n",
    "    preprocess_x = pad(preprocess_x)\n",
    "    preprocess_y = pad(preprocess_y)\n",
    "\n",
    "    # Keras's sparse_categorical_crossentropy function requires the labels to be in 3 dimensions\n",
    "    preprocess_y = preprocess_y.reshape(*preprocess_y.shape, 1)\n",
    "\n",
    "    return preprocess_x, preprocess_y, x_tk, y_tk\n",
    "\n",
    "preproc_english_sentences, preproc_french_sentences, english_tokenizer, french_tokenizer =\\\n",
    "    preprocess(english_sentences, french_sentences)\n",
    "    \n",
    "max_english_sequence_length = preproc_english_sentences.shape[1]\n",
    "max_french_sequence_length = preproc_french_sentences.shape[1]\n",
    "english_vocab_size = len(english_tokenizer.word_index)\n",
    "french_vocab_size = len(french_tokenizer.word_index)\n",
    "\n",
    "print('Data Preprocessed')\n",
    "print(\"Max English sentence length:\", max_english_sequence_length)\n",
    "print(\"Max French sentence length:\", max_french_sequence_length)\n",
    "print(\"English vocabulary size:\", english_vocab_size)\n",
    "print(\"French vocabulary size:\", french_vocab_size)"
   ]
  },
  {
   "cell_type": "markdown",
   "metadata": {},
   "source": [
    "## Models\n",
    "In this section, you will experiment with various neural network architectures.\n",
    "You will begin by training four relatively simple architectures.\n",
    "- Model 1 is a simple RNN\n",
    "- Model 2 is a RNN with Embedding\n",
    "- Model 3 is a Bidirectional RNN\n",
    "- Model 4 is an optional Encoder-Decoder RNN\n",
    "\n",
    "After experimenting with the four simple architectures, you will construct a deeper architecture that is designed to outperform all four models.\n",
    "### Ids Back to Text\n",
    "The neural network will be translating the input to words ids, which isn't the final form we want.  We want the French translation.  The function `logits_to_text` will bridge the gab between the logits from the neural network to the French translation.  You'll be using this function to better understand the output of the neural network."
   ]
  },
  {
   "cell_type": "code",
   "execution_count": 26,
   "metadata": {},
   "outputs": [
    {
     "name": "stdout",
     "output_type": "stream",
     "text": [
      "`logits_to_text` function loaded.\n"
     ]
    }
   ],
   "source": [
    "def logits_to_text(logits, tokenizer):\n",
    "    \"\"\"\n",
    "    Turn logits from a neural network into text using the tokenizer\n",
    "    :param logits: Logits from a neural network\n",
    "    :param tokenizer: Keras Tokenizer fit on the labels\n",
    "    :return: String that represents the text of the logits\n",
    "    \"\"\"\n",
    "    index_to_words = {id: word for word, id in tokenizer.word_index.items()}\n",
    "    index_to_words[0] = '<PAD>'\n",
    "\n",
    "    return ' '.join([index_to_words[prediction] for prediction in np.argmax(logits, 1)])\n",
    "\n",
    "print('`logits_to_text` function loaded.')"
   ]
  },
  {
   "cell_type": "markdown",
   "metadata": {},
   "source": [
    "### Model 1: RNN (IMPLEMENTATION)\n",
    "![RNN](images/rnn.png)\n",
    "A basic RNN model is a good baseline for sequence data.  In this model, you'll build a RNN that translates English to French."
   ]
  },
  {
   "cell_type": "code",
   "execution_count": 29,
   "metadata": {},
   "outputs": [
    {
     "name": "stdout",
     "output_type": "stream",
     "text": [
      "Train on 110288 samples, validate on 27573 samples\n",
      "Epoch 1/10\n",
      "110288/110288 [==============================] - 29s 265us/step - loss: 2.2050 - acc: 0.5100 - val_loss: nan - val_acc: 0.5962\n",
      "Epoch 2/10\n",
      "110288/110288 [==============================] - 27s 247us/step - loss: 1.5105 - acc: 0.5880 - val_loss: nan - val_acc: 0.6233\n",
      "Epoch 3/10\n",
      "110288/110288 [==============================] - 27s 246us/step - loss: 1.3534 - acc: 0.6144 - val_loss: nan - val_acc: 0.6515\n",
      "Epoch 4/10\n",
      "110288/110288 [==============================] - 27s 244us/step - loss: 1.2725 - acc: 0.6266 - val_loss: nan - val_acc: 0.6578\n",
      "Epoch 5/10\n",
      "110288/110288 [==============================] - 27s 244us/step - loss: 1.2235 - acc: 0.6342 - val_loss: nan - val_acc: 0.6542\n",
      "Epoch 6/10\n",
      "110288/110288 [==============================] - 27s 243us/step - loss: 1.1849 - acc: 0.6411 - val_loss: nan - val_acc: 0.6690\n",
      "Epoch 7/10\n",
      "110288/110288 [==============================] - 27s 247us/step - loss: 1.1358 - acc: 0.6550 - val_loss: nan - val_acc: 0.7089\n",
      "Epoch 8/10\n",
      "110288/110288 [==============================] - 27s 249us/step - loss: 1.0803 - acc: 0.6718 - val_loss: nan - val_acc: 0.7197\n",
      "Epoch 9/10\n",
      "110288/110288 [==============================] - 27s 247us/step - loss: 1.0402 - acc: 0.6820 - val_loss: nan - val_acc: 0.7298\n",
      "Epoch 10/10\n",
      "110288/110288 [==============================] - 27s 249us/step - loss: 1.0124 - acc: 0.6893 - val_loss: nan - val_acc: 0.7325\n",
      "new jersey est parfois humide en mois de mai il il en en en <PAD> <PAD> <PAD> <PAD> <PAD> <PAD> <PAD>\n"
     ]
    }
   ],
   "source": [
    "from keras.layers import GRU, Input, Dense, TimeDistributed, Dropout, LSTM\n",
    "from keras.models import Model, Sequential\n",
    "from keras.layers import Activation\n",
    "from keras.optimizers import Adam\n",
    "from keras.losses import sparse_categorical_crossentropy\n",
    "def simple_model(input_shape, output_sequence_length, english_vocab_size, french_vocab_size):\n",
    "    \"\"\"\n",
    "    Build and train a basic RNN on x and y\n",
    "    :param input_shape: Tuple of input shape\n",
    "    :param output_sequence_length: Length of output sequence\n",
    "    :param english_vocab_size: Number of unique English words in the dataset\n",
    "    :param french_vocab_size: Number of unique French words in the dataset\n",
    "    :return: Keras model built, but not trained\n",
    "    \"\"\"\n",
    "    # TODO: Build the layers\n",
    "    learning_rate = 1e-3\n",
    "    model = Sequential()\n",
    "    model.add(GRU(128, input_shape=input_shape[1:], return_sequences=True))\n",
    "    model.add(Dropout(0.5))\n",
    "    model.add(GRU(128, return_sequences=True))\n",
    "    model.add(Dropout(0.5))\n",
    "    model.add(TimeDistributed(Dense(256, activation='relu')))\n",
    "    model.add(Dropout(0.5))\n",
    "    model.add(TimeDistributed(Dense(french_vocab_size, activation='softmax'))) \n",
    "    \n",
    "    \n",
    "    model.compile(loss=sparse_categorical_crossentropy,\n",
    "                  optimizer=Adam(learning_rate),\n",
    "                  metrics=['accuracy'])\n",
    "    return model\n",
    "tests.test_simple_model(simple_model)\n",
    "\n",
    "# Reshaping the input to work with a basic RNN\n",
    "tmp_x = pad(preproc_english_sentences, max_french_sequence_length)\n",
    "tmp_x = tmp_x.reshape((-1, preproc_french_sentences.shape[-2], 1))\n",
    "\n",
    "\n",
    "\n",
    "# Train the neural network\n",
    "simple_rnn_model = simple_model(\n",
    "    tmp_x.shape,\n",
    "    max_french_sequence_length,\n",
    "    english_vocab_size,\n",
    "    french_vocab_size)\n",
    "simple_rnn_model.fit(tmp_x, preproc_french_sentences, batch_size=300, epochs=10, validation_split=0.2)\n",
    "\n",
    "# Print prediction(s)\n",
    "print(logits_to_text(simple_rnn_model.predict(tmp_x[:1])[0], french_tokenizer))"
   ]
  },
  {
   "cell_type": "code",
   "execution_count": 30,
   "metadata": {},
   "outputs": [
    {
     "name": "stdout",
     "output_type": "stream",
     "text": [
      "_________________________________________________________________\n",
      "Layer (type)                 Output Shape              Param #   \n",
      "=================================================================\n",
      "gru_3 (GRU)                  (None, 21, 128)           49920     \n",
      "_________________________________________________________________\n",
      "dropout_4 (Dropout)          (None, 21, 128)           0         \n",
      "_________________________________________________________________\n",
      "gru_4 (GRU)                  (None, 21, 128)           98688     \n",
      "_________________________________________________________________\n",
      "dropout_5 (Dropout)          (None, 21, 128)           0         \n",
      "_________________________________________________________________\n",
      "time_distributed_3 (TimeDist (None, 21, 256)           33024     \n",
      "_________________________________________________________________\n",
      "dropout_6 (Dropout)          (None, 21, 256)           0         \n",
      "_________________________________________________________________\n",
      "time_distributed_4 (TimeDist (None, 21, 344)           88408     \n",
      "=================================================================\n",
      "Total params: 270,040\n",
      "Trainable params: 270,040\n",
      "Non-trainable params: 0\n",
      "_________________________________________________________________\n"
     ]
    }
   ],
   "source": [
    "simple_rnn_model.summary()"
   ]
  },
  {
   "cell_type": "code",
   "execution_count": 31,
   "metadata": {},
   "outputs": [],
   "source": [
    "import os\n",
    "import glob"
   ]
  },
  {
   "cell_type": "code",
   "execution_count": 32,
   "metadata": {},
   "outputs": [],
   "source": [
    "if not os.path.exists(\"models\"):\n",
    "    os.makedirs(\"models\")"
   ]
  },
  {
   "cell_type": "code",
   "execution_count": 33,
   "metadata": {},
   "outputs": [],
   "source": [
    "\n",
    "from keras.models import load_model\n",
    "cache_dir = os.path.join(\"models\")\n",
    "model_file = \"rnn_model.h5\" \n",
    "simple_rnn_model.save(os.path.join(cache_dir, model_file))"
   ]
  },
  {
   "cell_type": "code",
   "execution_count": 34,
   "metadata": {},
   "outputs": [
    {
     "data": {
      "text/plain": [
       "'models/rnn_model.h5'"
      ]
     },
     "execution_count": 34,
     "metadata": {},
     "output_type": "execute_result"
    }
   ],
   "source": [
    "os.path.join(cache_dir, model_file)"
   ]
  },
  {
   "cell_type": "code",
   "execution_count": 35,
   "metadata": {},
   "outputs": [],
   "source": [
    "# if you want to load it\n",
    "#simple_rnn_model = load_model(os.path.join(cache_dir, model_file))"
   ]
  },
  {
   "cell_type": "markdown",
   "metadata": {},
   "source": [
    "### Model 2: Embedding (IMPLEMENTATION)\n",
    "![RNN](images/embedding.png)\n",
    "You've turned the words into ids, but there's a better representation of a word.  This is called word embeddings.  An embedding is a vector representation of the word that is close to similar words in n-dimensional space, where the n represents the size of the embedding vectors.\n",
    "\n",
    "In this model, you'll create a RNN model using embedding."
   ]
  },
  {
   "cell_type": "code",
   "execution_count": 36,
   "metadata": {},
   "outputs": [],
   "source": [
    "from keras.layers.embeddings import Embedding\n",
    "def embed_model(input_shape, output_sequence_length, english_vocab_size, french_vocab_size):\n",
    "    \"\"\"\n",
    "    Build and train a RNN model using word embedding on x and y\n",
    "    :param input_shape: Tuple of input shape\n",
    "    :param output_sequence_length: Length of output sequence\n",
    "    :param english_vocab_size: Number of unique English words in the dataset\n",
    "    :param french_vocab_size: Number of unique French words in the dataset\n",
    "    :return: Keras model built, but not trained\n",
    "    \"\"\"\n",
    "    # TODO: Implement\n",
    "    learning_rate= 0.001\n",
    "    model = Sequential()\n",
    "    model.add(Embedding(english_vocab_size, 100, input_length=input_shape[1], input_shape=input_shape[1:]))\n",
    "    \n",
    "    model.add(GRU(128, return_sequences=True))\n",
    "    model.add(Dropout(0.5))\n",
    "    model.add(GRU(128,  return_sequences=True))\n",
    "    model.add(Dropout(0.5))\n",
    "    model.add(TimeDistributed(Dense(256, activation='relu')))\n",
    "    model.add(Dropout(0.5))\n",
    "    model.add(TimeDistributed(Dense(french_vocab_size, activation='softmax'))) \n",
    "    \n",
    "    model.compile(loss=sparse_categorical_crossentropy,\n",
    "                  optimizer=Adam(learning_rate),\n",
    "                  metrics=['accuracy'])\n",
    "    \n",
    " \n",
    "    return model\n",
    "tests.test_embed_model(embed_model)\n",
    "\n",
    "\n",
    "# TODO: Reshape the input\n",
    "tmp_x = pad(preproc_english_sentences, preproc_french_sentences.shape[1])\n",
    "tmp_x = tmp_x.reshape((-1, preproc_french_sentences.shape[-2]))\n",
    "\n",
    "# TODO: Train the neural network\n",
    "embed_rnn_model = embed_model(\n",
    "    tmp_x.shape,\n",
    "    preproc_french_sentences.shape[1],\n",
    "    len(english_tokenizer.word_index)+1,\n",
    "    len(french_tokenizer.word_index)+1)"
   ]
  },
  {
   "cell_type": "code",
   "execution_count": 37,
   "metadata": {},
   "outputs": [
    {
     "name": "stdout",
     "output_type": "stream",
     "text": [
      "Train on 110288 samples, validate on 27573 samples\n",
      "Epoch 1/10\n",
      "110288/110288 [==============================] - 30s 270us/step - loss: 2.2459 - acc: 0.5146 - val_loss: 1.1600 - val_acc: 0.6917\n",
      "Epoch 2/10\n",
      "110288/110288 [==============================] - 29s 265us/step - loss: 1.1047 - acc: 0.6976 - val_loss: 0.7533 - val_acc: 0.7899\n",
      "Epoch 3/10\n",
      "110288/110288 [==============================] - 30s 268us/step - loss: 0.8384 - acc: 0.7613 - val_loss: 0.5770 - val_acc: 0.8321\n",
      "Epoch 4/10\n",
      "110288/110288 [==============================] - 29s 262us/step - loss: 0.6966 - acc: 0.7993 - val_loss: 0.4780 - val_acc: 0.8569\n",
      "Epoch 5/10\n",
      "110288/110288 [==============================] - 29s 265us/step - loss: 0.6095 - acc: 0.8229 - val_loss: 0.4152 - val_acc: 0.8779\n",
      "Epoch 6/10\n",
      "110288/110288 [==============================] - 29s 263us/step - loss: 0.5495 - acc: 0.8401 - val_loss: 0.3723 - val_acc: 0.8868\n",
      "Epoch 7/10\n",
      "110288/110288 [==============================] - 29s 264us/step - loss: 0.5053 - acc: 0.8526 - val_loss: 0.3444 - val_acc: 0.8940\n",
      "Epoch 8/10\n",
      "110288/110288 [==============================] - 29s 261us/step - loss: 0.4727 - acc: 0.8617 - val_loss: 0.3222 - val_acc: 0.9014\n",
      "Epoch 9/10\n",
      "110288/110288 [==============================] - 29s 262us/step - loss: 0.4460 - acc: 0.8692 - val_loss: 0.3056 - val_acc: 0.9039\n",
      "Epoch 10/10\n",
      "110288/110288 [==============================] - 28s 258us/step - loss: 0.4246 - acc: 0.8753 - val_loss: 0.2967 - val_acc: 0.9065\n"
     ]
    },
    {
     "data": {
      "text/plain": [
       "<keras.callbacks.History at 0x7eff02bbf358>"
      ]
     },
     "execution_count": 37,
     "metadata": {},
     "output_type": "execute_result"
    }
   ],
   "source": [
    "embed_rnn_model.fit(tmp_x, preproc_french_sentences, batch_size=300, epochs=10, validation_split=0.2)"
   ]
  },
  {
   "cell_type": "code",
   "execution_count": 38,
   "metadata": {},
   "outputs": [
    {
     "name": "stdout",
     "output_type": "stream",
     "text": [
      "_________________________________________________________________\n",
      "Layer (type)                 Output Shape              Param #   \n",
      "=================================================================\n",
      "embedding_2 (Embedding)      (None, 21, 100)           20000     \n",
      "_________________________________________________________________\n",
      "gru_7 (GRU)                  (None, 21, 128)           87936     \n",
      "_________________________________________________________________\n",
      "dropout_10 (Dropout)         (None, 21, 128)           0         \n",
      "_________________________________________________________________\n",
      "gru_8 (GRU)                  (None, 21, 128)           98688     \n",
      "_________________________________________________________________\n",
      "dropout_11 (Dropout)         (None, 21, 128)           0         \n",
      "_________________________________________________________________\n",
      "time_distributed_7 (TimeDist (None, 21, 256)           33024     \n",
      "_________________________________________________________________\n",
      "dropout_12 (Dropout)         (None, 21, 256)           0         \n",
      "_________________________________________________________________\n",
      "time_distributed_8 (TimeDist (None, 21, 345)           88665     \n",
      "=================================================================\n",
      "Total params: 328,313\n",
      "Trainable params: 328,313\n",
      "Non-trainable params: 0\n",
      "_________________________________________________________________\n"
     ]
    }
   ],
   "source": [
    "embed_rnn_model.summary()\n",
    "model_file = \"embed_model.h5\" \n",
    "embed_rnn_model.save(os.path.join(cache_dir, model_file))"
   ]
  },
  {
   "cell_type": "markdown",
   "metadata": {},
   "source": [
    "### Model 3: Bidirectional RNNs (IMPLEMENTATION)\n",
    "![RNN](images/bidirectional.png)\n",
    "One restriction of a RNN is that it can't see the future input, only the past.  This is where bidirectional recurrent neural networks come in.  They are able to see the future data."
   ]
  },
  {
   "cell_type": "code",
   "execution_count": 39,
   "metadata": {},
   "outputs": [
    {
     "name": "stdout",
     "output_type": "stream",
     "text": [
      "new jersey est parfois calme en l'automne automne l' automne est il est en en <PAD> <PAD> <PAD> <PAD> <PAD> <PAD>\n"
     ]
    }
   ],
   "source": [
    "# TODO: Print prediction(s)\n",
    "print(logits_to_text(embed_rnn_model.predict(tmp_x[:1])[0], french_tokenizer))\n"
   ]
  },
  {
   "cell_type": "code",
   "execution_count": 40,
   "metadata": {},
   "outputs": [
    {
     "name": "stdout",
     "output_type": "stream",
     "text": [
      "['new jersey is sometimes quiet during autumn , and it is snowy in april .']\n",
      "[\"new jersey est parfois calme pendant l' automne , et il est neigeux en avril .\"]\n"
     ]
    }
   ],
   "source": [
    "\n",
    "print(english_sentences[:1])\n",
    "print(french_sentences[:1])"
   ]
  },
  {
   "cell_type": "code",
   "execution_count": 41,
   "metadata": {},
   "outputs": [],
   "source": [
    "from keras.layers import Bidirectional\n",
    "def bd_model(input_shape, output_sequence_length, english_vocab_size, french_vocab_size):\n",
    "    \"\"\"\n",
    "    Build and train a bidirectional RNN model on x and y\n",
    "    :param input_shape: Tuple of input shape\n",
    "    :param output_sequence_length: Length of output sequence\n",
    "    :param english_vocab_size: Number of unique English words in the dataset\n",
    "    :param french_vocab_size: Number of unique French words in the dataset\n",
    "    :return: Keras model built, but not trained\n",
    "    \"\"\"\n",
    "    \n",
    "    learning_rate = 1e-3\n",
    "    model = Sequential()\n",
    "    model.add(Bidirectional(GRU(128, return_sequences=True), input_shape=input_shape[1:]))\n",
    "    model.add(Dropout(0.5))\n",
    "    model.add(Bidirectional(GRU(128, return_sequences=True)))\n",
    "    model.add(Dropout(0.5))\n",
    "    model.add(TimeDistributed(Dense(256, activation='relu')))\n",
    "    model.add(Dropout(0.5))\n",
    "    model.add(TimeDistributed(Dense(french_vocab_size, activation='softmax'))) \n",
    "    \n",
    "    \n",
    "    model.compile(loss=sparse_categorical_crossentropy,\n",
    "                  optimizer=Adam(learning_rate),\n",
    "                  metrics=['accuracy'])\n",
    "    \n",
    "    \n",
    "    return model\n",
    "    \n",
    "tests.test_bd_model(bd_model)\n",
    "\n",
    "\n",
    "# TODO: Train and Print prediction(s)\n",
    "tmp_x = pad(preproc_english_sentences, preproc_french_sentences.shape[1])\n",
    "tmp_x = tmp_x.reshape((-1, preproc_french_sentences.shape[-2], 1))\n",
    "\n",
    "# TODO: Train and Print prediction(s)\n",
    "bd_rnn_model = bd_model(\n",
    "    tmp_x.shape,\n",
    "    preproc_french_sentences.shape[1],\n",
    "    len(english_tokenizer.word_index)+1,\n",
    "    len(french_tokenizer.word_index)+1)"
   ]
  },
  {
   "cell_type": "code",
   "execution_count": 42,
   "metadata": {},
   "outputs": [
    {
     "name": "stdout",
     "output_type": "stream",
     "text": [
      "Train on 110288 samples, validate on 27573 samples\n",
      "Epoch 1/10\n",
      "110288/110288 [==============================] - 51s 459us/step - loss: 1.8817 - acc: 0.5550 - val_loss: 1.2767 - val_acc: 0.6328\n",
      "Epoch 2/10\n",
      "110288/110288 [==============================] - 49s 446us/step - loss: 1.2899 - acc: 0.6288 - val_loss: 1.0880 - val_acc: 0.6603\n",
      "Epoch 3/10\n",
      "110288/110288 [==============================] - 49s 448us/step - loss: 1.1531 - acc: 0.6504 - val_loss: 0.9879 - val_acc: 0.6810\n",
      "Epoch 4/10\n",
      "110288/110288 [==============================] - 49s 447us/step - loss: 1.0737 - acc: 0.6641 - val_loss: 0.9062 - val_acc: 0.7011\n",
      "Epoch 5/10\n",
      "110288/110288 [==============================] - 49s 446us/step - loss: 0.9968 - acc: 0.6863 - val_loss: 0.8322 - val_acc: 0.7279\n",
      "Epoch 6/10\n",
      "110288/110288 [==============================] - 50s 450us/step - loss: 0.9326 - acc: 0.7054 - val_loss: 0.7714 - val_acc: 0.7414\n",
      "Epoch 7/10\n",
      "110288/110288 [==============================] - 49s 448us/step - loss: 0.8812 - acc: 0.7177 - val_loss: 0.7338 - val_acc: 0.7494\n",
      "Epoch 8/10\n",
      "110288/110288 [==============================] - 49s 448us/step - loss: 0.8425 - acc: 0.7258 - val_loss: 0.6916 - val_acc: 0.7631\n",
      "Epoch 9/10\n",
      "110288/110288 [==============================] - 49s 447us/step - loss: 0.8123 - acc: 0.7342 - val_loss: 0.6606 - val_acc: 0.7680\n",
      "Epoch 10/10\n",
      "110288/110288 [==============================] - 50s 450us/step - loss: 0.7762 - acc: 0.7432 - val_loss: 0.6318 - val_acc: 0.7811\n"
     ]
    },
    {
     "data": {
      "text/plain": [
       "<keras.callbacks.History at 0x7efefed92da0>"
      ]
     },
     "execution_count": 42,
     "metadata": {},
     "output_type": "execute_result"
    }
   ],
   "source": [
    "bd_rnn_model.fit(tmp_x, preproc_french_sentences, batch_size=300, epochs=10, validation_split=0.2)"
   ]
  },
  {
   "cell_type": "code",
   "execution_count": 58,
   "metadata": {},
   "outputs": [
    {
     "name": "stdout",
     "output_type": "stream",
     "text": [
      "_________________________________________________________________\n",
      "Layer (type)                 Output Shape              Param #   \n",
      "=================================================================\n",
      "bidirectional_4 (Bidirection (None, 21, 256)           99840     \n",
      "_________________________________________________________________\n",
      "dropout_34 (Dropout)         (None, 21, 256)           0         \n",
      "_________________________________________________________________\n",
      "bidirectional_5 (Bidirection (None, 21, 256)           295680    \n",
      "_________________________________________________________________\n",
      "dropout_35 (Dropout)         (None, 21, 256)           0         \n",
      "_________________________________________________________________\n",
      "time_distributed_23 (TimeDis (None, 21, 256)           65792     \n",
      "_________________________________________________________________\n",
      "dropout_36 (Dropout)         (None, 21, 256)           0         \n",
      "_________________________________________________________________\n",
      "time_distributed_24 (TimeDis (None, 21, 345)           88665     \n",
      "=================================================================\n",
      "Total params: 549,977\n",
      "Trainable params: 549,977\n",
      "Non-trainable params: 0\n",
      "_________________________________________________________________\n"
     ]
    }
   ],
   "source": [
    "bd_rnn_model.summary()\n",
    "model_file = \"bd_rnn_model.h5\" \n",
    "bd_rnn_model.save(os.path.join(cache_dir, model_file))"
   ]
  },
  {
   "cell_type": "code",
   "execution_count": 53,
   "metadata": {},
   "outputs": [],
   "source": [
    "bd_rnn_model.save(\"bd_model.h5\")"
   ]
  },
  {
   "cell_type": "markdown",
   "metadata": {},
   "source": [
    "### Model 4: Encoder-Decoder (OPTIONAL)\n",
    "Time to look at encoder-decoder models.  This model is made up of an encoder and decoder. The encoder creates a matrix representation of the sentence.  The decoder takes this matrix as input and predicts the translation as output.\n",
    "\n",
    "Create an encoder-decoder model in the cell below."
   ]
  },
  {
   "cell_type": "code",
   "execution_count": 70,
   "metadata": {},
   "outputs": [
    {
     "name": "stdout",
     "output_type": "stream",
     "text": [
      "Train on 110288 samples, validate on 27573 samples\n",
      "Epoch 1/10\n",
      "110288/110288 [==============================] - 30s 277us/step - loss: 2.7308 - acc: 0.4606 - val_loss: 2.2016 - val_acc: 0.5179\n",
      "Epoch 2/10\n",
      "110288/110288 [==============================] - 27s 249us/step - loss: 2.0183 - acc: 0.5326 - val_loss: 1.8854 - val_acc: 0.5474\n",
      "Epoch 3/10\n",
      "110288/110288 [==============================] - 27s 249us/step - loss: 1.8075 - acc: 0.5556 - val_loss: 1.7236 - val_acc: 0.5704\n",
      "Epoch 4/10\n",
      "110288/110288 [==============================] - 27s 246us/step - loss: 1.6296 - acc: 0.5762 - val_loss: 1.5377 - val_acc: 0.5883\n",
      "Epoch 5/10\n",
      "110288/110288 [==============================] - 27s 244us/step - loss: 1.4895 - acc: 0.5950 - val_loss: 1.4506 - val_acc: 0.6014\n",
      "Epoch 6/10\n",
      "110288/110288 [==============================] - 27s 247us/step - loss: 1.4240 - acc: 0.6053 - val_loss: 1.4027 - val_acc: 0.6091\n",
      "Epoch 7/10\n",
      "110288/110288 [==============================] - 27s 245us/step - loss: 1.3876 - acc: 0.6127 - val_loss: 1.3691 - val_acc: 0.6150\n",
      "Epoch 8/10\n",
      "110288/110288 [==============================] - 28s 250us/step - loss: 1.3636 - acc: 0.6161 - val_loss: 1.3544 - val_acc: 0.6178\n",
      "Epoch 9/10\n",
      "110288/110288 [==============================] - 28s 255us/step - loss: 1.3446 - acc: 0.6207 - val_loss: 1.3578 - val_acc: 0.6167\n",
      "Epoch 10/10\n",
      "110288/110288 [==============================] - 27s 248us/step - loss: 1.3278 - acc: 0.6251 - val_loss: 1.3196 - val_acc: 0.6267\n"
     ]
    },
    {
     "data": {
      "text/plain": [
       "<keras.callbacks.History at 0x7f958d3b7c18>"
      ]
     },
     "execution_count": 70,
     "metadata": {},
     "output_type": "execute_result"
    }
   ],
   "source": [
    "\n",
    "from keras.layers import RepeatVector\n",
    "def encdec_model(input_shape, output_sequence_length, english_vocab_size, french_vocab_size):\n",
    "    \"\"\"\n",
    "    Build and train an encoder-decoder model on x and y\n",
    "    :param input_shape: Tuple of input shape\n",
    "    :param output_sequence_length: Length of output sequence\n",
    "    :param english_vocab_size: Number of unique English words in the dataset\n",
    "    :param french_vocab_size: Number of unique French words in the dataset\n",
    "    :return: Keras model built, but not trained\n",
    "    \"\"\"\n",
    "    learning_rate = 1e-3\n",
    "    model = Sequential()\n",
    "    \n",
    "    #Encoder\n",
    "    inputs = Input(shape=input_shape[1:])\n",
    "    gru = GRU(output_sequence_length)(inputs)\n",
    "    e_out = Dense(128, activation='relu')(gru)\n",
    "    \n",
    "    #Decoder\n",
    "    d_input = RepeatVector(output_sequence_length)(e_out)\n",
    "    d_gru = GRU(128, return_sequences=True)(d_input)\n",
    "    layer = TimeDistributed(Dense(french_vocab_size, activation='softmax'))\n",
    "    final = layer(d_gru)\n",
    "\n",
    "    #Create Model from parameters defined above\n",
    "    model = Model(inputs=inputs, outputs=final)\n",
    "    model.compile(loss=sparse_categorical_crossentropy,\n",
    "                  optimizer=Adam(learning_rate),\n",
    "                  metrics=['accuracy'])\n",
    "    \n",
    "    \n",
    "    return model\n",
    "    \n",
    "    \n",
    "    \n",
    "tests.test_encdec_model(encdec_model)\n",
    "\n",
    "# TODO: Train and Print prediction(s)\n",
    "tmp_x = pad(preproc_english_sentences, preproc_french_sentences.shape[1])\n",
    "tmp_x = tmp_x.reshape((-1, preproc_french_sentences.shape[-2], 1))\n",
    "\n",
    "# TODO: Train and Print prediction(s)\n",
    "ed_rnn_model = encdec_model(\n",
    "    tmp_x.shape,\n",
    "    preproc_french_sentences.shape[1],\n",
    "    len(english_tokenizer.word_index)+1,\n",
    "    len(french_tokenizer.word_index)+1)\n",
    "\n",
    "ed_rnn_model.fit(tmp_x, preproc_french_sentences, batch_size=300, epochs=10, validation_split=0.2)"
   ]
  },
  {
   "cell_type": "markdown",
   "metadata": {},
   "source": [
    "### Model 5: Custom (IMPLEMENTATION)\n",
    "Use everything you learned from the previous models to create a model that incorporates embedding and a bidirectional rnn into one model."
   ]
  },
  {
   "cell_type": "code",
   "execution_count": 43,
   "metadata": {},
   "outputs": [],
   "source": [
    "def model_final(input_shape, output_sequence_length, english_vocab_size, french_vocab_size):\n",
    "    \"\"\"\n",
    "    Build and train a RNN model using word embedding on x and y\n",
    "    :param input_shape: Tuple of input shape\n",
    "    :param output_sequence_length: Length of output sequence\n",
    "    :param english_vocab_size: Number of unique English words in the dataset\n",
    "    :param french_vocab_size: Number of unique French words in the dataset\n",
    "    :return: Keras model built, but not trained\n",
    "    \"\"\"\n",
    "    # TODO: Implement\n",
    "    learning_rate = 0.001\n",
    "    inputs = Input(shape=input_shape[1:])\n",
    "    emb = Embedding(english_vocab_size, 100)(inputs)\n",
    "    gru = Bidirectional(GRU(128, dropout=0.5))(emb)\n",
    "    final_enc = Dense(256, activation='relu')(gru)\n",
    "    \n",
    "    dec1 = RepeatVector(output_sequence_length)(final_enc)\n",
    "    decgru = Bidirectional(LSTM(512, dropout=0.2, return_sequences=True))(dec1)\n",
    "    layer = TimeDistributed(Dense(french_vocab_size, activation='softmax'))\n",
    "    final = layer(decgru)\n",
    "    \n",
    "    \n",
    "    model = Model(inputs=inputs, outputs=final)\n",
    "    model.compile(loss=sparse_categorical_crossentropy,\n",
    "                  optimizer=Adam(learning_rate),\n",
    "                  metrics=['accuracy'])\n",
    "    return model\n",
    "    \n",
    " \n",
    "    return model\n",
    "tests.test_model_final(model_final)\n",
    "\n"
   ]
  },
  {
   "cell_type": "markdown",
   "metadata": {},
   "source": [
    "## Prediction (IMPLEMENTATION)"
   ]
  },
  {
   "cell_type": "code",
   "execution_count": 44,
   "metadata": {},
   "outputs": [
    {
     "name": "stdout",
     "output_type": "stream",
     "text": [
      "_________________________________________________________________\n",
      "Layer (type)                 Output Shape              Param #   \n",
      "=================================================================\n",
      "input_2 (InputLayer)         (None, 15)                0         \n",
      "_________________________________________________________________\n",
      "embedding_4 (Embedding)      (None, 15, 100)           20000     \n",
      "_________________________________________________________________\n",
      "bidirectional_7 (Bidirection (None, 256)               175872    \n",
      "_________________________________________________________________\n",
      "dense_15 (Dense)             (None, 256)               65792     \n",
      "_________________________________________________________________\n",
      "repeat_vector_2 (RepeatVecto (None, 21, 256)           0         \n",
      "_________________________________________________________________\n",
      "bidirectional_8 (Bidirection (None, 21, 1024)          3149824   \n",
      "_________________________________________________________________\n",
      "time_distributed_14 (TimeDis (None, 21, 345)           353625    \n",
      "=================================================================\n",
      "Total params: 3,765,113\n",
      "Trainable params: 3,765,113\n",
      "Non-trainable params: 0\n",
      "_________________________________________________________________\n",
      "None\n",
      "Train on 110288 samples, validate on 27573 samples\n",
      "Epoch 1/30\n",
      "110288/110288 [==============================] - 102s 922us/step - loss: 1.7949 - acc: 0.5715 - val_loss: 1.1025 - val_acc: 0.6903\n",
      "Epoch 2/30\n",
      "110288/110288 [==============================] - 100s 909us/step - loss: 0.9641 - acc: 0.7141 - val_loss: 0.8182 - val_acc: 0.7467\n",
      "Epoch 3/30\n",
      "110288/110288 [==============================] - 101s 914us/step - loss: 0.7457 - acc: 0.7686 - val_loss: 0.6126 - val_acc: 0.8089\n",
      "Epoch 4/30\n",
      "110288/110288 [==============================] - 101s 915us/step - loss: 0.5942 - acc: 0.8105 - val_loss: 0.4877 - val_acc: 0.8445\n",
      "Epoch 5/30\n",
      "110288/110288 [==============================] - 101s 912us/step - loss: 0.4719 - acc: 0.8465 - val_loss: 0.3793 - val_acc: 0.8796\n",
      "Epoch 6/30\n",
      "110288/110288 [==============================] - 99s 900us/step - loss: 0.3753 - acc: 0.8769 - val_loss: 0.2882 - val_acc: 0.9082\n",
      "Epoch 7/30\n",
      "110288/110288 [==============================] - 99s 898us/step - loss: 0.2961 - acc: 0.9025 - val_loss: 0.2155 - val_acc: 0.9321\n",
      "Epoch 8/30\n",
      "110288/110288 [==============================] - 99s 901us/step - loss: 0.2428 - acc: 0.9193 - val_loss: 0.1872 - val_acc: 0.9394\n",
      "Epoch 9/30\n",
      "110288/110288 [==============================] - 99s 900us/step - loss: 0.2041 - acc: 0.9314 - val_loss: 0.1563 - val_acc: 0.9484\n",
      "Epoch 10/30\n",
      "110288/110288 [==============================] - 99s 900us/step - loss: 0.1791 - acc: 0.9392 - val_loss: 0.1378 - val_acc: 0.9531\n",
      "Epoch 11/30\n",
      "110288/110288 [==============================] - 99s 902us/step - loss: 0.1573 - acc: 0.9465 - val_loss: 0.1233 - val_acc: 0.9579\n",
      "Epoch 12/30\n",
      "110288/110288 [==============================] - 99s 895us/step - loss: 0.1430 - acc: 0.9508 - val_loss: 0.1136 - val_acc: 0.9612\n",
      "Epoch 13/30\n",
      "110288/110288 [==============================] - 99s 895us/step - loss: 0.1300 - acc: 0.9556 - val_loss: 0.1093 - val_acc: 0.9628\n",
      "Epoch 14/30\n",
      "110288/110288 [==============================] - 99s 899us/step - loss: 0.1172 - acc: 0.9601 - val_loss: 0.0962 - val_acc: 0.9673\n",
      "Epoch 15/30\n",
      "110288/110288 [==============================] - 100s 904us/step - loss: 0.1121 - acc: 0.9615 - val_loss: 0.0979 - val_acc: 0.9670\n",
      "Epoch 16/30\n",
      "110288/110288 [==============================] - 100s 904us/step - loss: 0.1007 - acc: 0.9654 - val_loss: 0.0828 - val_acc: 0.9726\n",
      "Epoch 17/30\n",
      "110288/110288 [==============================] - 99s 900us/step - loss: 0.0928 - acc: 0.9684 - val_loss: 0.0872 - val_acc: 0.9714\n",
      "Epoch 18/30\n",
      "110288/110288 [==============================] - 100s 902us/step - loss: 0.0889 - acc: 0.9696 - val_loss: 0.0829 - val_acc: 0.9726\n",
      "Epoch 19/30\n",
      "110288/110288 [==============================] - 101s 912us/step - loss: 0.0837 - acc: 0.9714 - val_loss: 0.0820 - val_acc: 0.9732\n",
      "Epoch 20/30\n",
      "110288/110288 [==============================] - 101s 913us/step - loss: 0.0813 - acc: 0.9725 - val_loss: 0.0762 - val_acc: 0.9749\n",
      "Epoch 21/30\n",
      "110288/110288 [==============================] - 101s 914us/step - loss: 0.0744 - acc: 0.9747 - val_loss: 0.0760 - val_acc: 0.9750\n",
      "Epoch 22/30\n",
      "110288/110288 [==============================] - 100s 906us/step - loss: 0.0703 - acc: 0.9760 - val_loss: 0.0735 - val_acc: 0.9766\n",
      "Epoch 23/30\n",
      "110288/110288 [==============================] - 99s 896us/step - loss: 0.0689 - acc: 0.9766 - val_loss: 0.0760 - val_acc: 0.9754\n",
      "Epoch 24/30\n",
      "110288/110288 [==============================] - 99s 896us/step - loss: 0.0658 - acc: 0.9777 - val_loss: 0.0716 - val_acc: 0.9765\n",
      "Epoch 25/30\n",
      "110288/110288 [==============================] - 99s 899us/step - loss: 0.0607 - acc: 0.9794 - val_loss: 0.0748 - val_acc: 0.9758\n",
      "Epoch 26/30\n",
      "110288/110288 [==============================] - 99s 894us/step - loss: 0.0610 - acc: 0.9794 - val_loss: 0.0645 - val_acc: 0.9795\n",
      "Epoch 27/30\n",
      "110288/110288 [==============================] - 98s 892us/step - loss: 0.0553 - acc: 0.9813 - val_loss: 0.0673 - val_acc: 0.9787\n",
      "Epoch 28/30\n",
      "110288/110288 [==============================] - 98s 892us/step - loss: 0.0507 - acc: 0.9829 - val_loss: 0.0685 - val_acc: 0.9786\n",
      "Epoch 29/30\n",
      "110288/110288 [==============================] - 99s 894us/step - loss: 0.0502 - acc: 0.9831 - val_loss: 0.0644 - val_acc: 0.9800\n",
      "Epoch 30/30\n",
      "110288/110288 [==============================] - 99s 898us/step - loss: 0.0516 - acc: 0.9826 - val_loss: 0.0679 - val_acc: 0.9787\n",
      "Sample 1:\n",
      "il a vu un vieux camion jaune <PAD> <PAD> <PAD> <PAD> <PAD> <PAD> <PAD> <PAD> <PAD> <PAD> <PAD> <PAD> <PAD> <PAD>\n",
      "Il a vu un vieux camion jaune\n",
      "Sample 2:\n",
      "new jersey est parfois calme pendant l' automne et il est neigeux en avril <PAD> <PAD> <PAD> <PAD> <PAD> <PAD> <PAD>\n",
      "new jersey est parfois calme pendant l' automne et il est neigeux en avril <PAD> <PAD> <PAD> <PAD> <PAD> <PAD> <PAD>\n"
     ]
    }
   ],
   "source": [
    "def final_predictions(x, y, x_tk, y_tk):\n",
    "    \"\"\"\n",
    "    Gets predictions using the final model\n",
    "    :param x: Preprocessed English data\n",
    "    :param y: Preprocessed French data\n",
    "    :param x_tk: English tokenizer\n",
    "    :param y_tk: French tokenizer\n",
    "    \"\"\"\n",
    "    # TODO: Train neural network using model_final\n",
    "    model = model_final(\n",
    "        x.shape,\n",
    "        y.shape[1],\n",
    "        len(x_tk.word_index)+1,\n",
    "        len(y_tk.word_index)+1)\n",
    "    print (model.summary())\n",
    "    model.fit(x, y, batch_size=300, epochs=30, validation_split=0.2)\n",
    "\n",
    "    \n",
    "    ## DON'T EDIT ANYTHING BELOW THIS LINE\n",
    "    y_id_to_word = {value: key for key, value in y_tk.word_index.items()}\n",
    "    y_id_to_word[0] = '<PAD>'\n",
    "\n",
    "    sentence = 'he saw a old yellow truck'\n",
    "    sentence = [x_tk.word_index[word] for word in sentence.split()]\n",
    "    sentence = pad_sequences([sentence], maxlen=x.shape[-1], padding='post')\n",
    "    sentences = np.array([sentence[0], x[0]])\n",
    "    predictions = model.predict(sentences, len(sentences))\n",
    "\n",
    "    print('Sample 1:')\n",
    "    print(' '.join([y_id_to_word[np.argmax(x)] for x in predictions[0]]))\n",
    "    print('Il a vu un vieux camion jaune')\n",
    "    print('Sample 2:')\n",
    "    print(' '.join([y_id_to_word[np.argmax(x)] for x in predictions[1]]))\n",
    "    print(' '.join([y_id_to_word[np.max(x)] for x in y[0]]))\n",
    "\n",
    "\n",
    "final_predictions(preproc_english_sentences, preproc_french_sentences, english_tokenizer, french_tokenizer)"
   ]
  },
  {
   "cell_type": "markdown",
   "metadata": {},
   "source": [
    "## Submission\n",
    "When you're ready to submit, complete the following steps:\n",
    "1. Review the [rubric](https://review.udacity.com/#!/rubrics/1004/view) to ensure your submission meets all requirements to pass\n",
    "2. Generate an HTML version of this notebook\n",
    "\n",
    "  - Run the next cell to attempt automatic generation (this is the recommended method in Workspaces)\n",
    "  - Navigate to **FILE -> Download as -> HTML (.html)**\n",
    "  - Manually generate a copy using `nbconvert` from your shell terminal\n",
    "```\n",
    "$ pip install nbconvert\n",
    "$ python -m nbconvert machine_translation.ipynb\n",
    "```\n",
    "  \n",
    "3. Submit the project\n",
    "\n",
    "  - If you are in a Workspace, simply click the \"Submit Project\" button (bottom towards the right)\n",
    "  \n",
    "  - Otherwise, add the following files into a zip archive and submit them \n",
    "  - `helper.py`\n",
    "  - `machine_translation.ipynb`\n",
    "  - `machine_translation.html`\n",
    "    - You can export the notebook by navigating to **File -> Download as -> HTML (.html)**."
   ]
  },
  {
   "cell_type": "markdown",
   "metadata": {},
   "source": [
    "### Generate the html\n",
    "\n",
    "**Save your notebook before running the next cell to generate the HTML output.** Then submit your project."
   ]
  },
  {
   "cell_type": "code",
   "execution_count": 2,
   "metadata": {},
   "outputs": [
    {
     "data": {
      "text/plain": [
       "['[NbConvertApp] Converting notebook machine_translation.ipynb to html',\n",
       " '[NbConvertApp] Writing 305996 bytes to machine_translation.html']"
      ]
     },
     "execution_count": 2,
     "metadata": {},
     "output_type": "execute_result"
    }
   ],
   "source": [
    "# Save before you run this cell!\n",
    "!!jupyter nbconvert *.ipynb"
   ]
  },
  {
   "cell_type": "markdown",
   "metadata": {},
   "source": [
    "## Optional Enhancements\n",
    "\n",
    "This project focuses on learning various network architectures for machine translation, but we don't evaluate the models according to best practices by splitting the data into separate test & training sets -- so the model accuracy is overstated. Use the [`sklearn.model_selection.train_test_split()`](http://scikit-learn.org/stable/modules/generated/sklearn.model_selection.train_test_split.html) function to create separate training & test datasets, then retrain each of the models using only the training set and evaluate the prediction accuracy using the hold out test set. Does the \"best\" model change?"
   ]
  }
 ],
 "metadata": {
  "kernelspec": {
   "display_name": "Python 3",
   "language": "python",
   "name": "python3"
  },
  "language_info": {
   "codemirror_mode": {
    "name": "ipython",
    "version": 3
   },
   "file_extension": ".py",
   "mimetype": "text/x-python",
   "name": "python",
   "nbconvert_exporter": "python",
   "pygments_lexer": "ipython3",
   "version": "3.6.3"
  }
 },
 "nbformat": 4,
 "nbformat_minor": 1
}
